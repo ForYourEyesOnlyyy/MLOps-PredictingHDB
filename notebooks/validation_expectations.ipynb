{
 "cells": [
  {
   "cell_type": "code",
   "execution_count": 17,
   "metadata": {},
   "outputs": [
    {
     "data": {
      "application/vnd.jupyter.widget-view+json": {
       "model_id": "f7dc5338af454382b54fb14fcd8584a3",
       "version_major": 2,
       "version_minor": 0
      },
      "text/plain": [
       "Calculating Metrics:   0%|          | 0/8 [00:00<?, ?it/s]"
      ]
     },
     "metadata": {},
     "output_type": "display_data"
    },
    {
     "data": {
      "application/vnd.jupyter.widget-view+json": {
       "model_id": "a868bbc3447044628b7de638674beedc",
       "version_major": 2,
       "version_minor": 0
      },
      "text/plain": [
       "Calculating Metrics:   0%|          | 0/8 [00:00<?, ?it/s]"
      ]
     },
     "metadata": {},
     "output_type": "display_data"
    },
    {
     "data": {
      "application/vnd.jupyter.widget-view+json": {
       "model_id": "20011b25043541c9928e063309dadd5d",
       "version_major": 2,
       "version_minor": 0
      },
      "text/plain": [
       "Calculating Metrics:   0%|          | 0/8 [00:00<?, ?it/s]"
      ]
     },
     "metadata": {},
     "output_type": "display_data"
    },
    {
     "data": {
      "application/vnd.jupyter.widget-view+json": {
       "model_id": "4e0aedf9794f4d8586a6d2c2d8349a4e",
       "version_major": 2,
       "version_minor": 0
      },
      "text/plain": [
       "Calculating Metrics:   0%|          | 0/8 [00:00<?, ?it/s]"
      ]
     },
     "metadata": {},
     "output_type": "display_data"
    },
    {
     "data": {
      "application/vnd.jupyter.widget-view+json": {
       "model_id": "0c07d5c1584f4408bb5c4fef13a92c57",
       "version_major": 2,
       "version_minor": 0
      },
      "text/plain": [
       "Calculating Metrics:   0%|          | 0/8 [00:00<?, ?it/s]"
      ]
     },
     "metadata": {},
     "output_type": "display_data"
    },
    {
     "data": {
      "application/vnd.jupyter.widget-view+json": {
       "model_id": "bb47b9f308ec4305a33878dcb649e4de",
       "version_major": 2,
       "version_minor": 0
      },
      "text/plain": [
       "Calculating Metrics:   0%|          | 0/8 [00:00<?, ?it/s]"
      ]
     },
     "metadata": {},
     "output_type": "display_data"
    },
    {
     "data": {
      "application/vnd.jupyter.widget-view+json": {
       "model_id": "5826fc252e4c4ec39d44ae439595e370",
       "version_major": 2,
       "version_minor": 0
      },
      "text/plain": [
       "Calculating Metrics:   0%|          | 0/8 [00:00<?, ?it/s]"
      ]
     },
     "metadata": {},
     "output_type": "display_data"
    },
    {
     "data": {
      "application/vnd.jupyter.widget-view+json": {
       "model_id": "51c1e09955124e538642ee2553d435fd",
       "version_major": 2,
       "version_minor": 0
      },
      "text/plain": [
       "Calculating Metrics:   0%|          | 0/8 [00:00<?, ?it/s]"
      ]
     },
     "metadata": {},
     "output_type": "display_data"
    },
    {
     "data": {
      "application/vnd.jupyter.widget-view+json": {
       "model_id": "670fe2e5d55a44888b66e8403f2a7205",
       "version_major": 2,
       "version_minor": 0
      },
      "text/plain": [
       "Calculating Metrics:   0%|          | 0/8 [00:00<?, ?it/s]"
      ]
     },
     "metadata": {},
     "output_type": "display_data"
    },
    {
     "data": {
      "application/vnd.jupyter.widget-view+json": {
       "model_id": "86a32bd003614b89b7e2a85e0001ba94",
       "version_major": 2,
       "version_minor": 0
      },
      "text/plain": [
       "Calculating Metrics:   0%|          | 0/8 [00:00<?, ?it/s]"
      ]
     },
     "metadata": {},
     "output_type": "display_data"
    },
    {
     "data": {
      "application/vnd.jupyter.widget-view+json": {
       "model_id": "b92a1a8851394a209b71d50ca5878a18",
       "version_major": 2,
       "version_minor": 0
      },
      "text/plain": [
       "Calculating Metrics:   0%|          | 0/8 [00:00<?, ?it/s]"
      ]
     },
     "metadata": {},
     "output_type": "display_data"
    },
    {
     "data": {
      "application/vnd.jupyter.widget-view+json": {
       "model_id": "37c6adea9f2e4978a479e30c08d74f59",
       "version_major": 2,
       "version_minor": 0
      },
      "text/plain": [
       "Calculating Metrics:   0%|          | 0/8 [00:00<?, ?it/s]"
      ]
     },
     "metadata": {},
     "output_type": "display_data"
    },
    {
     "data": {
      "application/vnd.jupyter.widget-view+json": {
       "model_id": "e70055b5526045a391c7d38b245667a4",
       "version_major": 2,
       "version_minor": 0
      },
      "text/plain": [
       "Calculating Metrics:   0%|          | 0/8 [00:00<?, ?it/s]"
      ]
     },
     "metadata": {},
     "output_type": "display_data"
    },
    {
     "data": {
      "application/vnd.jupyter.widget-view+json": {
       "model_id": "efc70a4e569b40acb303b887d98b5e05",
       "version_major": 2,
       "version_minor": 0
      },
      "text/plain": [
       "Calculating Metrics:   0%|          | 0/8 [00:00<?, ?it/s]"
      ]
     },
     "metadata": {},
     "output_type": "display_data"
    },
    {
     "data": {
      "application/vnd.jupyter.widget-view+json": {
       "model_id": "31bc95c55c074e238ba408c58d54665e",
       "version_major": 2,
       "version_minor": 0
      },
      "text/plain": [
       "Calculating Metrics:   0%|          | 0/8 [00:00<?, ?it/s]"
      ]
     },
     "metadata": {},
     "output_type": "display_data"
    },
    {
     "data": {
      "application/vnd.jupyter.widget-view+json": {
       "model_id": "6645f07899744c65aa725c5da7337f98",
       "version_major": 2,
       "version_minor": 0
      },
      "text/plain": [
       "Calculating Metrics:   0%|          | 0/8 [00:00<?, ?it/s]"
      ]
     },
     "metadata": {},
     "output_type": "display_data"
    },
    {
     "data": {
      "application/vnd.jupyter.widget-view+json": {
       "model_id": "c64a23147762433a8df7e5eb92aa683e",
       "version_major": 2,
       "version_minor": 0
      },
      "text/plain": [
       "Calculating Metrics:   0%|          | 0/8 [00:00<?, ?it/s]"
      ]
     },
     "metadata": {},
     "output_type": "display_data"
    },
    {
     "data": {
      "application/vnd.jupyter.widget-view+json": {
       "model_id": "3c4333dfecf146bf98344c08be5b529c",
       "version_major": 2,
       "version_minor": 0
      },
      "text/plain": [
       "Calculating Metrics:   0%|          | 0/8 [00:00<?, ?it/s]"
      ]
     },
     "metadata": {},
     "output_type": "display_data"
    },
    {
     "data": {
      "application/vnd.jupyter.widget-view+json": {
       "model_id": "291438703cff460e87ced478cf439cdc",
       "version_major": 2,
       "version_minor": 0
      },
      "text/plain": [
       "Calculating Metrics:   0%|          | 0/8 [00:00<?, ?it/s]"
      ]
     },
     "metadata": {},
     "output_type": "display_data"
    },
    {
     "data": {
      "application/vnd.jupyter.widget-view+json": {
       "model_id": "ec68e02693464e7f87540c2c47f43aec",
       "version_major": 2,
       "version_minor": 0
      },
      "text/plain": [
       "Calculating Metrics:   0%|          | 0/8 [00:00<?, ?it/s]"
      ]
     },
     "metadata": {},
     "output_type": "display_data"
    },
    {
     "data": {
      "application/vnd.jupyter.widget-view+json": {
       "model_id": "f82d2d5cedd04d30a496efeb24361f7b",
       "version_major": 2,
       "version_minor": 0
      },
      "text/plain": [
       "Calculating Metrics:   0%|          | 0/8 [00:00<?, ?it/s]"
      ]
     },
     "metadata": {},
     "output_type": "display_data"
    },
    {
     "data": {
      "application/vnd.jupyter.widget-view+json": {
       "model_id": "df8ee1e8faeb4e7bb991156530a8edc8",
       "version_major": 2,
       "version_minor": 0
      },
      "text/plain": [
       "Calculating Metrics:   0%|          | 0/8 [00:00<?, ?it/s]"
      ]
     },
     "metadata": {},
     "output_type": "display_data"
    },
    {
     "data": {
      "application/vnd.jupyter.widget-view+json": {
       "model_id": "a44b19e7a4fb43448b890ba91fbf6664",
       "version_major": 2,
       "version_minor": 0
      },
      "text/plain": [
       "Calculating Metrics:   0%|          | 0/8 [00:00<?, ?it/s]"
      ]
     },
     "metadata": {},
     "output_type": "display_data"
    },
    {
     "data": {
      "application/vnd.jupyter.widget-view+json": {
       "model_id": "511929f86eb743fa85b7e1a312cac2a3",
       "version_major": 2,
       "version_minor": 0
      },
      "text/plain": [
       "Calculating Metrics:   0%|          | 0/8 [00:00<?, ?it/s]"
      ]
     },
     "metadata": {},
     "output_type": "display_data"
    },
    {
     "data": {
      "application/vnd.jupyter.widget-view+json": {
       "model_id": "f600ee2870934665a2b1d896b21ffca4",
       "version_major": 2,
       "version_minor": 0
      },
      "text/plain": [
       "Calculating Metrics:   0%|          | 0/8 [00:00<?, ?it/s]"
      ]
     },
     "metadata": {},
     "output_type": "display_data"
    },
    {
     "data": {
      "application/vnd.jupyter.widget-view+json": {
       "model_id": "3d4b05c34c34467999c04db051eb9b69",
       "version_major": 2,
       "version_minor": 0
      },
      "text/plain": [
       "Calculating Metrics:   0%|          | 0/8 [00:00<?, ?it/s]"
      ]
     },
     "metadata": {},
     "output_type": "display_data"
    },
    {
     "data": {
      "application/vnd.jupyter.widget-view+json": {
       "model_id": "f11cfbb47ed24993a3242c25a5fad168",
       "version_major": 2,
       "version_minor": 0
      },
      "text/plain": [
       "Calculating Metrics:   0%|          | 0/8 [00:00<?, ?it/s]"
      ]
     },
     "metadata": {},
     "output_type": "display_data"
    },
    {
     "data": {
      "application/vnd.jupyter.widget-view+json": {
       "model_id": "f5f273d99da84ef197baa11d25a3cdc3",
       "version_major": 2,
       "version_minor": 0
      },
      "text/plain": [
       "Calculating Metrics:   0%|          | 0/8 [00:00<?, ?it/s]"
      ]
     },
     "metadata": {},
     "output_type": "display_data"
    },
    {
     "data": {
      "application/vnd.jupyter.widget-view+json": {
       "model_id": "349a5e60cc9a49dcaa3696b808ff2ef4",
       "version_major": 2,
       "version_minor": 0
      },
      "text/plain": [
       "Calculating Metrics:   0%|          | 0/8 [00:00<?, ?it/s]"
      ]
     },
     "metadata": {},
     "output_type": "display_data"
    },
    {
     "data": {
      "application/vnd.jupyter.widget-view+json": {
       "model_id": "14b1f333d82d401485e8a9e9d2e7c507",
       "version_major": 2,
       "version_minor": 0
      },
      "text/plain": [
       "Calculating Metrics:   0%|          | 0/8 [00:00<?, ?it/s]"
      ]
     },
     "metadata": {},
     "output_type": "display_data"
    },
    {
     "data": {
      "application/vnd.jupyter.widget-view+json": {
       "model_id": "8595cf10007243d0b7dffc566262c69c",
       "version_major": 2,
       "version_minor": 0
      },
      "text/plain": [
       "Calculating Metrics:   0%|          | 0/8 [00:00<?, ?it/s]"
      ]
     },
     "metadata": {},
     "output_type": "display_data"
    },
    {
     "data": {
      "application/vnd.jupyter.widget-view+json": {
       "model_id": "72b31bdcef6048d1ac3135ca66e03d49",
       "version_major": 2,
       "version_minor": 0
      },
      "text/plain": [
       "Calculating Metrics:   0%|          | 0/8 [00:00<?, ?it/s]"
      ]
     },
     "metadata": {},
     "output_type": "display_data"
    },
    {
     "data": {
      "application/vnd.jupyter.widget-view+json": {
       "model_id": "b098af3ea45547228e7bb34e2ef26d06",
       "version_major": 2,
       "version_minor": 0
      },
      "text/plain": [
       "Calculating Metrics:   0%|          | 0/8 [00:00<?, ?it/s]"
      ]
     },
     "metadata": {},
     "output_type": "display_data"
    },
    {
     "data": {
      "application/vnd.jupyter.widget-view+json": {
       "model_id": "317bb5cd705440f7ba61e992f4c6a3bf",
       "version_major": 2,
       "version_minor": 0
      },
      "text/plain": [
       "Calculating Metrics:   0%|          | 0/8 [00:00<?, ?it/s]"
      ]
     },
     "metadata": {},
     "output_type": "display_data"
    },
    {
     "data": {
      "application/vnd.jupyter.widget-view+json": {
       "model_id": "77a2b39156ea45d1b2e055892143df79",
       "version_major": 2,
       "version_minor": 0
      },
      "text/plain": [
       "Calculating Metrics:   0%|          | 0/8 [00:00<?, ?it/s]"
      ]
     },
     "metadata": {},
     "output_type": "display_data"
    },
    {
     "data": {
      "application/vnd.jupyter.widget-view+json": {
       "model_id": "f926c50eb69e44578f8c29054abc36cf",
       "version_major": 2,
       "version_minor": 0
      },
      "text/plain": [
       "Calculating Metrics:   0%|          | 0/8 [00:00<?, ?it/s]"
      ]
     },
     "metadata": {},
     "output_type": "display_data"
    },
    {
     "data": {
      "application/vnd.jupyter.widget-view+json": {
       "model_id": "22d81a03fa1e481aac9ec0f42a83283a",
       "version_major": 2,
       "version_minor": 0
      },
      "text/plain": [
       "Calculating Metrics:   0%|          | 0/8 [00:00<?, ?it/s]"
      ]
     },
     "metadata": {},
     "output_type": "display_data"
    },
    {
     "data": {
      "application/vnd.jupyter.widget-view+json": {
       "model_id": "56cbf4762b80446b927a4d327541c1fb",
       "version_major": 2,
       "version_minor": 0
      },
      "text/plain": [
       "Calculating Metrics:   0%|          | 0/8 [00:00<?, ?it/s]"
      ]
     },
     "metadata": {},
     "output_type": "display_data"
    },
    {
     "data": {
      "application/vnd.jupyter.widget-view+json": {
       "model_id": "149e086c20b44d539ae2d6e2bb0e22da",
       "version_major": 2,
       "version_minor": 0
      },
      "text/plain": [
       "Calculating Metrics:   0%|          | 0/8 [00:00<?, ?it/s]"
      ]
     },
     "metadata": {},
     "output_type": "display_data"
    },
    {
     "data": {
      "application/vnd.jupyter.widget-view+json": {
       "model_id": "f3f578f82a744fdf8dd718f5d3c5cf40",
       "version_major": 2,
       "version_minor": 0
      },
      "text/plain": [
       "Calculating Metrics:   0%|          | 0/8 [00:00<?, ?it/s]"
      ]
     },
     "metadata": {},
     "output_type": "display_data"
    },
    {
     "data": {
      "application/vnd.jupyter.widget-view+json": {
       "model_id": "cb16ef8b41cb41599333ccd67104a1cc",
       "version_major": 2,
       "version_minor": 0
      },
      "text/plain": [
       "Calculating Metrics:   0%|          | 0/8 [00:00<?, ?it/s]"
      ]
     },
     "metadata": {},
     "output_type": "display_data"
    },
    {
     "data": {
      "application/vnd.jupyter.widget-view+json": {
       "model_id": "9c5369fe101b4032922a4ceb1e381af2",
       "version_major": 2,
       "version_minor": 0
      },
      "text/plain": [
       "Calculating Metrics:   0%|          | 0/8 [00:00<?, ?it/s]"
      ]
     },
     "metadata": {},
     "output_type": "display_data"
    },
    {
     "data": {
      "application/vnd.jupyter.widget-view+json": {
       "model_id": "42566cf7f2a44c8caa0aabe2a6032888",
       "version_major": 2,
       "version_minor": 0
      },
      "text/plain": [
       "Calculating Metrics:   0%|          | 0/8 [00:00<?, ?it/s]"
      ]
     },
     "metadata": {},
     "output_type": "display_data"
    },
    {
     "data": {
      "application/vnd.jupyter.widget-view+json": {
       "model_id": "0e9eca25c39b49cc8191392bb5200cd8",
       "version_major": 2,
       "version_minor": 0
      },
      "text/plain": [
       "Calculating Metrics:   0%|          | 0/8 [00:00<?, ?it/s]"
      ]
     },
     "metadata": {},
     "output_type": "display_data"
    },
    {
     "data": {
      "application/vnd.jupyter.widget-view+json": {
       "model_id": "861af9ce114b4b6fab5a4415d2bc185f",
       "version_major": 2,
       "version_minor": 0
      },
      "text/plain": [
       "Calculating Metrics:   0%|          | 0/8 [00:00<?, ?it/s]"
      ]
     },
     "metadata": {},
     "output_type": "display_data"
    },
    {
     "data": {
      "application/vnd.jupyter.widget-view+json": {
       "model_id": "5cd19dd0338842e6aaa4ff6f4e87c778",
       "version_major": 2,
       "version_minor": 0
      },
      "text/plain": [
       "Calculating Metrics:   0%|          | 0/8 [00:00<?, ?it/s]"
      ]
     },
     "metadata": {},
     "output_type": "display_data"
    },
    {
     "data": {
      "application/vnd.jupyter.widget-view+json": {
       "model_id": "279693b6c2dd4b3ba173925b547d202c",
       "version_major": 2,
       "version_minor": 0
      },
      "text/plain": [
       "Calculating Metrics:   0%|          | 0/8 [00:00<?, ?it/s]"
      ]
     },
     "metadata": {},
     "output_type": "display_data"
    },
    {
     "data": {
      "application/vnd.jupyter.widget-view+json": {
       "model_id": "8d9e9571ab224759b3b3b704bc60bf60",
       "version_major": 2,
       "version_minor": 0
      },
      "text/plain": [
       "Calculating Metrics:   0%|          | 0/8 [00:00<?, ?it/s]"
      ]
     },
     "metadata": {},
     "output_type": "display_data"
    },
    {
     "data": {
      "application/vnd.jupyter.widget-view+json": {
       "model_id": "2a231ea6168940bda7344e13b70b2cd1",
       "version_major": 2,
       "version_minor": 0
      },
      "text/plain": [
       "Calculating Metrics:   0%|          | 0/8 [00:00<?, ?it/s]"
      ]
     },
     "metadata": {},
     "output_type": "display_data"
    },
    {
     "data": {
      "application/vnd.jupyter.widget-view+json": {
       "model_id": "b8c6779096a34c8d97f417849975997e",
       "version_major": 2,
       "version_minor": 0
      },
      "text/plain": [
       "Calculating Metrics:   0%|          | 0/346 [00:00<?, ?it/s]"
      ]
     },
     "metadata": {},
     "output_type": "display_data"
    },
    {
     "name": "stdout",
     "output_type": "stream",
     "text": [
      "Validation success: True\n",
      "Expectation expect_column_values_to_be_in_set: SUCCESS\n",
      "Expectation expect_column_values_to_be_in_set: SUCCESS\n",
      "Expectation expect_column_values_to_be_in_set: SUCCESS\n",
      "Expectation expect_column_values_to_be_in_set: SUCCESS\n",
      "Expectation expect_column_values_to_be_in_set: SUCCESS\n",
      "Expectation expect_column_values_to_be_in_set: SUCCESS\n",
      "Expectation expect_column_values_to_be_in_set: SUCCESS\n",
      "Expectation expect_column_values_to_be_in_set: SUCCESS\n",
      "Expectation expect_column_values_to_be_in_set: SUCCESS\n",
      "Expectation expect_column_values_to_be_in_set: SUCCESS\n",
      "Expectation expect_column_values_to_be_in_set: SUCCESS\n",
      "Expectation expect_column_values_to_be_in_set: SUCCESS\n",
      "Expectation expect_column_values_to_be_in_set: SUCCESS\n",
      "Expectation expect_column_values_to_be_in_set: SUCCESS\n",
      "Expectation expect_column_values_to_be_in_set: SUCCESS\n",
      "Expectation expect_column_values_to_be_in_set: SUCCESS\n",
      "Expectation expect_column_values_to_be_in_set: SUCCESS\n",
      "Expectation expect_column_values_to_be_in_set: SUCCESS\n",
      "Expectation expect_column_values_to_be_in_set: SUCCESS\n",
      "Expectation expect_column_values_to_be_in_set: SUCCESS\n",
      "Expectation expect_column_values_to_be_in_set: SUCCESS\n",
      "Expectation expect_column_values_to_be_in_set: SUCCESS\n",
      "Expectation expect_column_values_to_be_in_set: SUCCESS\n",
      "Expectation expect_column_values_to_be_in_set: SUCCESS\n",
      "Expectation expect_column_values_to_be_in_set: SUCCESS\n",
      "Expectation expect_column_values_to_be_in_set: SUCCESS\n",
      "Expectation expect_column_values_to_be_in_set: SUCCESS\n",
      "Expectation expect_column_values_to_be_in_set: SUCCESS\n",
      "Expectation expect_column_values_to_be_in_set: SUCCESS\n",
      "Expectation expect_column_values_to_be_in_set: SUCCESS\n",
      "Expectation expect_column_values_to_be_in_set: SUCCESS\n",
      "Expectation expect_column_values_to_be_in_set: SUCCESS\n",
      "Expectation expect_column_values_to_be_in_set: SUCCESS\n",
      "Expectation expect_column_values_to_be_in_set: SUCCESS\n",
      "Expectation expect_column_values_to_be_in_set: SUCCESS\n",
      "Expectation expect_column_values_to_be_in_set: SUCCESS\n",
      "Expectation expect_column_values_to_be_in_set: SUCCESS\n",
      "Expectation expect_column_values_to_be_in_set: SUCCESS\n",
      "Expectation expect_column_values_to_be_in_set: SUCCESS\n",
      "Expectation expect_column_values_to_be_in_set: SUCCESS\n",
      "Expectation expect_column_values_to_be_in_set: SUCCESS\n",
      "Expectation expect_column_values_to_be_in_set: SUCCESS\n",
      "Expectation expect_column_values_to_be_in_set: SUCCESS\n",
      "Expectation expect_column_values_to_be_in_set: SUCCESS\n",
      "Expectation expect_column_values_to_be_in_set: SUCCESS\n",
      "Expectation expect_column_values_to_be_between: SUCCESS\n",
      "Expectation expect_column_values_to_be_between: SUCCESS\n",
      "Expectation expect_column_values_to_be_between: SUCCESS\n",
      "Expectation expect_column_values_to_be_between: SUCCESS\n"
     ]
    }
   ],
   "source": [
    "import great_expectations as gx\n",
    "from great_expectations.data_context import FileDataContext\n",
    "import pandas as pd\n",
    "import os\n",
    "\n",
    "# Initialize the DataContext\n",
    "if not os.path.exists('../services/gx'):\n",
    "    FileDataContext(project_root_dir = \"../services\")\n",
    "context = gx.get_context(project_root_dir = \"../services\")\n",
    "\n",
    "# Add or update the pandas datasource\n",
    "ds = context.sources.add_or_update_pandas(name = \"pandas_datasource\")\n",
    "\n",
    "da3 = ds.add_csv_asset(\n",
    "    name = \"csv_file3\",\n",
    "    filepath_or_buffer=\"../data/preprocessed/X.csv\"\n",
    ")\n",
    "\n",
    "# Build batch request\n",
    "batch_request = da3.build_batch_request()\n",
    "\n",
    "# Create a new expectation suite\n",
    "suite_name = \"feature_validation\"\n",
    "context.add_or_update_expectation_suite(suite_name)\n",
    "\n",
    "# Get validator for the batch and expectation suite\n",
    "validator = context.get_validator(\n",
    "    batch_request=batch_request,\n",
    "    expectation_suite_name=suite_name\n",
    ")\n",
    "\n",
    "# Step 3: Create expectations to validate all features\n",
    "# Load data\n",
    "data = pd.read_csv('../data/preprocessed/X.csv')\n",
    "\n",
    "# Define expectations\n",
    "# Expect one-hot encoded columns to be 0 or 1\n",
    "one_hot_columns = [col for col in data.columns if 'flat_type_' in col or 'flat_model_' in col or 'storey_range_' in col]\n",
    "for col in one_hot_columns:\n",
    "    validator.expect_column_values_to_be_in_set(col, [0, 1])\n",
    "\n",
    "# Expect 'floor_area_sqm' to be within a reasonable range\n",
    "validator.expect_column_values_to_be_between(\"floor_area_sqm\", -10, 10)\n",
    "\n",
    "# Expect 'latitude' and 'longitude' to be within valid ranges\n",
    "validator.expect_column_values_to_be_between(\"latitude\", -90, 90)\n",
    "validator.expect_column_values_to_be_between(\"longitude\", -180, 180)\n",
    "\n",
    "# Other expectations based on domain knowledge\n",
    "# For example, expect 'remaining_lease' to be positive\n",
    "validator.expect_column_values_to_be_between(\"remaining_lease\", -10, 10)\n",
    "\n",
    "# Save expectations to suite\n",
    "validator.save_expectation_suite(discard_failed_expectations=False)\n",
    "\n",
    "# Create a checkpoint to check the validity of the features in src/data.py\n",
    "da4 = ds.add_csv_asset(\n",
    "    name = \"csv_file4\",\n",
    "    filepath_or_buffer=\"data/preprocessed/X.csv\",\n",
    ")\n",
    "batch_request4 = da4.build_batch_request()\n",
    "checkpoint = context.add_or_update_checkpoint(\n",
    "    name = \"preprocessed_data_validation_checkpoint_data\",\n",
    "    validations=[\n",
    "        {\n",
    "            \"batch_request\":batch_request4,\n",
    "            \"expectation_suite_name\" : suite_name\n",
    "        }\n",
    "    ]\n",
    ")\n",
    "\n",
    "# validate expectations\n",
    "checkpoint = context.add_or_update_checkpoint(\n",
    "    name = \"preprocessed_data_validation_checkpoint\",\n",
    "    validations=[\n",
    "        {\n",
    "            \"batch_request\":batch_request,\n",
    "            \"expectation_suite_name\" : suite_name\n",
    "        }\n",
    "    ]\n",
    ")\n",
    "\n",
    "results = context.run_checkpoint(checkpoint_name=\"preprocessed_data_validation_checkpoint\")\n",
    "\n",
    "# Print detailed validation results\n",
    "print(\"Validation success:\", results.success)\n",
    "for result in results[\"run_results\"].values():\n",
    "    validation_result = result[\"validation_result\"]\n",
    "    for res in validation_result[\"results\"]:\n",
    "        expectation = res[\"expectation_config\"][\"expectation_type\"]\n",
    "        success = res[\"success\"]\n",
    "        print(f\"Expectation {expectation}: {'SUCCESS' if success else 'FAILURE'}\")\n",
    "        if not success:\n",
    "            print(f\"Details: {res['result']}\")"
   ]
  },
  {
   "cell_type": "code",
   "execution_count": null,
   "metadata": {},
   "outputs": [],
   "source": []
  }
 ],
 "metadata": {
  "kernelspec": {
   "display_name": "venv",
   "language": "python",
   "name": "python3"
  },
  "language_info": {
   "codemirror_mode": {
    "name": "ipython",
    "version": 3
   },
   "file_extension": ".py",
   "mimetype": "text/x-python",
   "name": "python",
   "nbconvert_exporter": "python",
   "pygments_lexer": "ipython3",
   "version": "3.11.0rc1"
  }
 },
 "nbformat": 4,
 "nbformat_minor": 2
}
