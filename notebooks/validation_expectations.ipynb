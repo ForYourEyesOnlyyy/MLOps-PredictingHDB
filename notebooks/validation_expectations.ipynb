{
 "cells": [
  {
   "cell_type": "code",
   "execution_count": 3,
   "metadata": {},
   "outputs": [
    {
     "data": {
      "application/vnd.jupyter.widget-view+json": {
       "model_id": "b3b57b1ebeb34eb8adb42c3ae127758f",
       "version_major": 2,
       "version_minor": 0
      },
      "text/plain": [
       "Calculating Metrics:   0%|          | 0/8 [00:00<?, ?it/s]"
      ]
     },
     "metadata": {},
     "output_type": "display_data"
    },
    {
     "data": {
      "application/vnd.jupyter.widget-view+json": {
       "model_id": "64d4edaafeed41cd8c2619ea19741891",
       "version_major": 2,
       "version_minor": 0
      },
      "text/plain": [
       "Calculating Metrics:   0%|          | 0/8 [00:00<?, ?it/s]"
      ]
     },
     "metadata": {},
     "output_type": "display_data"
    },
    {
     "data": {
      "application/vnd.jupyter.widget-view+json": {
       "model_id": "8a5d21d93d314c1fa95fec886a7eb488",
       "version_major": 2,
       "version_minor": 0
      },
      "text/plain": [
       "Calculating Metrics:   0%|          | 0/8 [00:00<?, ?it/s]"
      ]
     },
     "metadata": {},
     "output_type": "display_data"
    },
    {
     "data": {
      "application/vnd.jupyter.widget-view+json": {
       "model_id": "447334a8fe5440aca069737a44534957",
       "version_major": 2,
       "version_minor": 0
      },
      "text/plain": [
       "Calculating Metrics:   0%|          | 0/8 [00:00<?, ?it/s]"
      ]
     },
     "metadata": {},
     "output_type": "display_data"
    },
    {
     "data": {
      "application/vnd.jupyter.widget-view+json": {
       "model_id": "5ef10f65984f44eea82889b3726d4399",
       "version_major": 2,
       "version_minor": 0
      },
      "text/plain": [
       "Calculating Metrics:   0%|          | 0/8 [00:00<?, ?it/s]"
      ]
     },
     "metadata": {},
     "output_type": "display_data"
    },
    {
     "data": {
      "application/vnd.jupyter.widget-view+json": {
       "model_id": "09b270af984841c58e0569c42ff3bb75",
       "version_major": 2,
       "version_minor": 0
      },
      "text/plain": [
       "Calculating Metrics:   0%|          | 0/8 [00:00<?, ?it/s]"
      ]
     },
     "metadata": {},
     "output_type": "display_data"
    },
    {
     "data": {
      "application/vnd.jupyter.widget-view+json": {
       "model_id": "5fe0bed06c4a4a49bb1357321de5b042",
       "version_major": 2,
       "version_minor": 0
      },
      "text/plain": [
       "Calculating Metrics:   0%|          | 0/8 [00:00<?, ?it/s]"
      ]
     },
     "metadata": {},
     "output_type": "display_data"
    },
    {
     "data": {
      "application/vnd.jupyter.widget-view+json": {
       "model_id": "bb4de7b63c2142d49c85e2ae9f6f9966",
       "version_major": 2,
       "version_minor": 0
      },
      "text/plain": [
       "Calculating Metrics:   0%|          | 0/8 [00:00<?, ?it/s]"
      ]
     },
     "metadata": {},
     "output_type": "display_data"
    },
    {
     "data": {
      "application/vnd.jupyter.widget-view+json": {
       "model_id": "9fe1487ed85745eab5afc0851c97c66d",
       "version_major": 2,
       "version_minor": 0
      },
      "text/plain": [
       "Calculating Metrics:   0%|          | 0/8 [00:00<?, ?it/s]"
      ]
     },
     "metadata": {},
     "output_type": "display_data"
    },
    {
     "data": {
      "application/vnd.jupyter.widget-view+json": {
       "model_id": "a85d9b70d82c47deae91b14a3e8d03aa",
       "version_major": 2,
       "version_minor": 0
      },
      "text/plain": [
       "Calculating Metrics:   0%|          | 0/8 [00:00<?, ?it/s]"
      ]
     },
     "metadata": {},
     "output_type": "display_data"
    },
    {
     "data": {
      "application/vnd.jupyter.widget-view+json": {
       "model_id": "710a946849c84f409e37b994720c642e",
       "version_major": 2,
       "version_minor": 0
      },
      "text/plain": [
       "Calculating Metrics:   0%|          | 0/8 [00:00<?, ?it/s]"
      ]
     },
     "metadata": {},
     "output_type": "display_data"
    },
    {
     "data": {
      "application/vnd.jupyter.widget-view+json": {
       "model_id": "bbeb1d2a9c9c4e16a6cc98fada7dd01a",
       "version_major": 2,
       "version_minor": 0
      },
      "text/plain": [
       "Calculating Metrics:   0%|          | 0/8 [00:00<?, ?it/s]"
      ]
     },
     "metadata": {},
     "output_type": "display_data"
    },
    {
     "data": {
      "application/vnd.jupyter.widget-view+json": {
       "model_id": "063560291f3a407a8341e6c42fed59f9",
       "version_major": 2,
       "version_minor": 0
      },
      "text/plain": [
       "Calculating Metrics:   0%|          | 0/8 [00:00<?, ?it/s]"
      ]
     },
     "metadata": {},
     "output_type": "display_data"
    },
    {
     "data": {
      "application/vnd.jupyter.widget-view+json": {
       "model_id": "ada415d30d77409fa0a7d665869b2fa6",
       "version_major": 2,
       "version_minor": 0
      },
      "text/plain": [
       "Calculating Metrics:   0%|          | 0/8 [00:00<?, ?it/s]"
      ]
     },
     "metadata": {},
     "output_type": "display_data"
    },
    {
     "data": {
      "application/vnd.jupyter.widget-view+json": {
       "model_id": "ae18de524a7c46b9955a9fc3d76b62fc",
       "version_major": 2,
       "version_minor": 0
      },
      "text/plain": [
       "Calculating Metrics:   0%|          | 0/8 [00:00<?, ?it/s]"
      ]
     },
     "metadata": {},
     "output_type": "display_data"
    },
    {
     "data": {
      "application/vnd.jupyter.widget-view+json": {
       "model_id": "f35d8e2b8e0f4561809cadaeb1bada01",
       "version_major": 2,
       "version_minor": 0
      },
      "text/plain": [
       "Calculating Metrics:   0%|          | 0/8 [00:00<?, ?it/s]"
      ]
     },
     "metadata": {},
     "output_type": "display_data"
    },
    {
     "data": {
      "application/vnd.jupyter.widget-view+json": {
       "model_id": "56179698cbce4b6a87227fea4e7bd643",
       "version_major": 2,
       "version_minor": 0
      },
      "text/plain": [
       "Calculating Metrics:   0%|          | 0/8 [00:00<?, ?it/s]"
      ]
     },
     "metadata": {},
     "output_type": "display_data"
    },
    {
     "data": {
      "application/vnd.jupyter.widget-view+json": {
       "model_id": "3e2bdfa7ee94469baa30a012f5c9842e",
       "version_major": 2,
       "version_minor": 0
      },
      "text/plain": [
       "Calculating Metrics:   0%|          | 0/8 [00:00<?, ?it/s]"
      ]
     },
     "metadata": {},
     "output_type": "display_data"
    },
    {
     "data": {
      "application/vnd.jupyter.widget-view+json": {
       "model_id": "ddc87f6fbb9f45e5afe20f78228411c0",
       "version_major": 2,
       "version_minor": 0
      },
      "text/plain": [
       "Calculating Metrics:   0%|          | 0/8 [00:00<?, ?it/s]"
      ]
     },
     "metadata": {},
     "output_type": "display_data"
    },
    {
     "data": {
      "application/vnd.jupyter.widget-view+json": {
       "model_id": "0ea7039409e2411886ee25228611358e",
       "version_major": 2,
       "version_minor": 0
      },
      "text/plain": [
       "Calculating Metrics:   0%|          | 0/8 [00:00<?, ?it/s]"
      ]
     },
     "metadata": {},
     "output_type": "display_data"
    },
    {
     "data": {
      "application/vnd.jupyter.widget-view+json": {
       "model_id": "f6a0f68d0dc04048bb65309c5ac47fe6",
       "version_major": 2,
       "version_minor": 0
      },
      "text/plain": [
       "Calculating Metrics:   0%|          | 0/8 [00:00<?, ?it/s]"
      ]
     },
     "metadata": {},
     "output_type": "display_data"
    },
    {
     "data": {
      "application/vnd.jupyter.widget-view+json": {
       "model_id": "01da8302812a4c1693e7faccc105c641",
       "version_major": 2,
       "version_minor": 0
      },
      "text/plain": [
       "Calculating Metrics:   0%|          | 0/8 [00:00<?, ?it/s]"
      ]
     },
     "metadata": {},
     "output_type": "display_data"
    },
    {
     "data": {
      "application/vnd.jupyter.widget-view+json": {
       "model_id": "8e1b753561474444b93d53df7f70447f",
       "version_major": 2,
       "version_minor": 0
      },
      "text/plain": [
       "Calculating Metrics:   0%|          | 0/8 [00:00<?, ?it/s]"
      ]
     },
     "metadata": {},
     "output_type": "display_data"
    },
    {
     "data": {
      "application/vnd.jupyter.widget-view+json": {
       "model_id": "7a34de17ef7a4b29bb9a0f329045f702",
       "version_major": 2,
       "version_minor": 0
      },
      "text/plain": [
       "Calculating Metrics:   0%|          | 0/8 [00:00<?, ?it/s]"
      ]
     },
     "metadata": {},
     "output_type": "display_data"
    },
    {
     "data": {
      "application/vnd.jupyter.widget-view+json": {
       "model_id": "c0b4133efeb346f2a621b0e44e1b9c49",
       "version_major": 2,
       "version_minor": 0
      },
      "text/plain": [
       "Calculating Metrics:   0%|          | 0/8 [00:00<?, ?it/s]"
      ]
     },
     "metadata": {},
     "output_type": "display_data"
    },
    {
     "data": {
      "application/vnd.jupyter.widget-view+json": {
       "model_id": "a1e183f158724ed5b086a4ecbb9de0c0",
       "version_major": 2,
       "version_minor": 0
      },
      "text/plain": [
       "Calculating Metrics:   0%|          | 0/8 [00:00<?, ?it/s]"
      ]
     },
     "metadata": {},
     "output_type": "display_data"
    },
    {
     "data": {
      "application/vnd.jupyter.widget-view+json": {
       "model_id": "9034be3d1edc492ab0d15354ab1798f2",
       "version_major": 2,
       "version_minor": 0
      },
      "text/plain": [
       "Calculating Metrics:   0%|          | 0/8 [00:00<?, ?it/s]"
      ]
     },
     "metadata": {},
     "output_type": "display_data"
    },
    {
     "data": {
      "application/vnd.jupyter.widget-view+json": {
       "model_id": "6896b6da84c74f279bc2bc3eb7a0433e",
       "version_major": 2,
       "version_minor": 0
      },
      "text/plain": [
       "Calculating Metrics:   0%|          | 0/8 [00:00<?, ?it/s]"
      ]
     },
     "metadata": {},
     "output_type": "display_data"
    },
    {
     "data": {
      "application/vnd.jupyter.widget-view+json": {
       "model_id": "debb7064b20c46dfa07dd5889309b9fc",
       "version_major": 2,
       "version_minor": 0
      },
      "text/plain": [
       "Calculating Metrics:   0%|          | 0/8 [00:00<?, ?it/s]"
      ]
     },
     "metadata": {},
     "output_type": "display_data"
    },
    {
     "data": {
      "application/vnd.jupyter.widget-view+json": {
       "model_id": "892770db79e547ddbec54b3e4eefb413",
       "version_major": 2,
       "version_minor": 0
      },
      "text/plain": [
       "Calculating Metrics:   0%|          | 0/8 [00:00<?, ?it/s]"
      ]
     },
     "metadata": {},
     "output_type": "display_data"
    },
    {
     "data": {
      "application/vnd.jupyter.widget-view+json": {
       "model_id": "6bcaa1a14e994da4b384ebc5b1b9c7ec",
       "version_major": 2,
       "version_minor": 0
      },
      "text/plain": [
       "Calculating Metrics:   0%|          | 0/8 [00:00<?, ?it/s]"
      ]
     },
     "metadata": {},
     "output_type": "display_data"
    },
    {
     "data": {
      "application/vnd.jupyter.widget-view+json": {
       "model_id": "d55061c9ec334295a708e2d7f1f9b158",
       "version_major": 2,
       "version_minor": 0
      },
      "text/plain": [
       "Calculating Metrics:   0%|          | 0/8 [00:00<?, ?it/s]"
      ]
     },
     "metadata": {},
     "output_type": "display_data"
    },
    {
     "data": {
      "application/vnd.jupyter.widget-view+json": {
       "model_id": "7162ec3edd714587902618110b501025",
       "version_major": 2,
       "version_minor": 0
      },
      "text/plain": [
       "Calculating Metrics:   0%|          | 0/8 [00:00<?, ?it/s]"
      ]
     },
     "metadata": {},
     "output_type": "display_data"
    },
    {
     "data": {
      "application/vnd.jupyter.widget-view+json": {
       "model_id": "be7e11a4f5e94c0f8127fb0a5262f36a",
       "version_major": 2,
       "version_minor": 0
      },
      "text/plain": [
       "Calculating Metrics:   0%|          | 0/8 [00:00<?, ?it/s]"
      ]
     },
     "metadata": {},
     "output_type": "display_data"
    },
    {
     "data": {
      "application/vnd.jupyter.widget-view+json": {
       "model_id": "89bd26fce04e4911ae6d0010b8df0181",
       "version_major": 2,
       "version_minor": 0
      },
      "text/plain": [
       "Calculating Metrics:   0%|          | 0/8 [00:00<?, ?it/s]"
      ]
     },
     "metadata": {},
     "output_type": "display_data"
    },
    {
     "data": {
      "application/vnd.jupyter.widget-view+json": {
       "model_id": "4a907fc1fbd3423c88ecf3639a121df7",
       "version_major": 2,
       "version_minor": 0
      },
      "text/plain": [
       "Calculating Metrics:   0%|          | 0/8 [00:00<?, ?it/s]"
      ]
     },
     "metadata": {},
     "output_type": "display_data"
    },
    {
     "data": {
      "application/vnd.jupyter.widget-view+json": {
       "model_id": "e6320d1e2a794b2880591d88e830b093",
       "version_major": 2,
       "version_minor": 0
      },
      "text/plain": [
       "Calculating Metrics:   0%|          | 0/8 [00:00<?, ?it/s]"
      ]
     },
     "metadata": {},
     "output_type": "display_data"
    },
    {
     "data": {
      "application/vnd.jupyter.widget-view+json": {
       "model_id": "68c7d5ec50494f27a59b459445af977c",
       "version_major": 2,
       "version_minor": 0
      },
      "text/plain": [
       "Calculating Metrics:   0%|          | 0/8 [00:00<?, ?it/s]"
      ]
     },
     "metadata": {},
     "output_type": "display_data"
    },
    {
     "data": {
      "application/vnd.jupyter.widget-view+json": {
       "model_id": "e0394722ef7b4dec8dbfff43ec9618f3",
       "version_major": 2,
       "version_minor": 0
      },
      "text/plain": [
       "Calculating Metrics:   0%|          | 0/8 [00:00<?, ?it/s]"
      ]
     },
     "metadata": {},
     "output_type": "display_data"
    },
    {
     "data": {
      "application/vnd.jupyter.widget-view+json": {
       "model_id": "8fa9c72275484ad0b3d975016a3be607",
       "version_major": 2,
       "version_minor": 0
      },
      "text/plain": [
       "Calculating Metrics:   0%|          | 0/8 [00:00<?, ?it/s]"
      ]
     },
     "metadata": {},
     "output_type": "display_data"
    },
    {
     "data": {
      "application/vnd.jupyter.widget-view+json": {
       "model_id": "1492a2366ce6483a93e98c8f11d686d3",
       "version_major": 2,
       "version_minor": 0
      },
      "text/plain": [
       "Calculating Metrics:   0%|          | 0/8 [00:00<?, ?it/s]"
      ]
     },
     "metadata": {},
     "output_type": "display_data"
    },
    {
     "data": {
      "application/vnd.jupyter.widget-view+json": {
       "model_id": "3a983392f5024646ae76cdcea43646e0",
       "version_major": 2,
       "version_minor": 0
      },
      "text/plain": [
       "Calculating Metrics:   0%|          | 0/8 [00:00<?, ?it/s]"
      ]
     },
     "metadata": {},
     "output_type": "display_data"
    },
    {
     "data": {
      "application/vnd.jupyter.widget-view+json": {
       "model_id": "a125b5c7854a4d12959b27d3fe9507e8",
       "version_major": 2,
       "version_minor": 0
      },
      "text/plain": [
       "Calculating Metrics:   0%|          | 0/8 [00:00<?, ?it/s]"
      ]
     },
     "metadata": {},
     "output_type": "display_data"
    },
    {
     "data": {
      "application/vnd.jupyter.widget-view+json": {
       "model_id": "656cc25bd9684a6db552f09a2648a17a",
       "version_major": 2,
       "version_minor": 0
      },
      "text/plain": [
       "Calculating Metrics:   0%|          | 0/8 [00:00<?, ?it/s]"
      ]
     },
     "metadata": {},
     "output_type": "display_data"
    },
    {
     "data": {
      "application/vnd.jupyter.widget-view+json": {
       "model_id": "8a8dd147dc3a4146be86c5fc9392990e",
       "version_major": 2,
       "version_minor": 0
      },
      "text/plain": [
       "Calculating Metrics:   0%|          | 0/8 [00:00<?, ?it/s]"
      ]
     },
     "metadata": {},
     "output_type": "display_data"
    },
    {
     "data": {
      "application/vnd.jupyter.widget-view+json": {
       "model_id": "e716244f306b432f87247986f4d184bc",
       "version_major": 2,
       "version_minor": 0
      },
      "text/plain": [
       "Calculating Metrics:   0%|          | 0/8 [00:00<?, ?it/s]"
      ]
     },
     "metadata": {},
     "output_type": "display_data"
    },
    {
     "data": {
      "application/vnd.jupyter.widget-view+json": {
       "model_id": "8bade40a4bc0406e9ea9c2fd8223495c",
       "version_major": 2,
       "version_minor": 0
      },
      "text/plain": [
       "Calculating Metrics:   0%|          | 0/8 [00:00<?, ?it/s]"
      ]
     },
     "metadata": {},
     "output_type": "display_data"
    },
    {
     "data": {
      "application/vnd.jupyter.widget-view+json": {
       "model_id": "166965d06b1845acb749bb50366c5d37",
       "version_major": 2,
       "version_minor": 0
      },
      "text/plain": [
       "Calculating Metrics:   0%|          | 0/8 [00:00<?, ?it/s]"
      ]
     },
     "metadata": {},
     "output_type": "display_data"
    },
    {
     "data": {
      "application/vnd.jupyter.widget-view+json": {
       "model_id": "c35934a79331439081e1f1bbfad36226",
       "version_major": 2,
       "version_minor": 0
      },
      "text/plain": [
       "Calculating Metrics:   0%|          | 0/8 [00:00<?, ?it/s]"
      ]
     },
     "metadata": {},
     "output_type": "display_data"
    },
    {
     "data": {
      "application/vnd.jupyter.widget-view+json": {
       "model_id": "5277643dfa3349b59b2ea91307b9af15",
       "version_major": 2,
       "version_minor": 0
      },
      "text/plain": [
       "Calculating Metrics:   0%|          | 0/346 [00:00<?, ?it/s]"
      ]
     },
     "metadata": {},
     "output_type": "display_data"
    },
    {
     "name": "stdout",
     "output_type": "stream",
     "text": [
      "Validation success: True\n",
      "Expectation expect_column_values_to_be_in_set: SUCCESS\n",
      "Expectation expect_column_values_to_be_in_set: SUCCESS\n",
      "Expectation expect_column_values_to_be_in_set: SUCCESS\n",
      "Expectation expect_column_values_to_be_in_set: SUCCESS\n",
      "Expectation expect_column_values_to_be_in_set: SUCCESS\n",
      "Expectation expect_column_values_to_be_in_set: SUCCESS\n",
      "Expectation expect_column_values_to_be_in_set: SUCCESS\n",
      "Expectation expect_column_values_to_be_in_set: SUCCESS\n",
      "Expectation expect_column_values_to_be_in_set: SUCCESS\n",
      "Expectation expect_column_values_to_be_in_set: SUCCESS\n",
      "Expectation expect_column_values_to_be_in_set: SUCCESS\n",
      "Expectation expect_column_values_to_be_in_set: SUCCESS\n",
      "Expectation expect_column_values_to_be_in_set: SUCCESS\n",
      "Expectation expect_column_values_to_be_in_set: SUCCESS\n",
      "Expectation expect_column_values_to_be_in_set: SUCCESS\n",
      "Expectation expect_column_values_to_be_in_set: SUCCESS\n",
      "Expectation expect_column_values_to_be_in_set: SUCCESS\n",
      "Expectation expect_column_values_to_be_in_set: SUCCESS\n",
      "Expectation expect_column_values_to_be_in_set: SUCCESS\n",
      "Expectation expect_column_values_to_be_in_set: SUCCESS\n",
      "Expectation expect_column_values_to_be_in_set: SUCCESS\n",
      "Expectation expect_column_values_to_be_in_set: SUCCESS\n",
      "Expectation expect_column_values_to_be_in_set: SUCCESS\n",
      "Expectation expect_column_values_to_be_in_set: SUCCESS\n",
      "Expectation expect_column_values_to_be_in_set: SUCCESS\n",
      "Expectation expect_column_values_to_be_in_set: SUCCESS\n",
      "Expectation expect_column_values_to_be_in_set: SUCCESS\n",
      "Expectation expect_column_values_to_be_in_set: SUCCESS\n",
      "Expectation expect_column_values_to_be_in_set: SUCCESS\n",
      "Expectation expect_column_values_to_be_in_set: SUCCESS\n",
      "Expectation expect_column_values_to_be_in_set: SUCCESS\n",
      "Expectation expect_column_values_to_be_in_set: SUCCESS\n",
      "Expectation expect_column_values_to_be_in_set: SUCCESS\n",
      "Expectation expect_column_values_to_be_in_set: SUCCESS\n",
      "Expectation expect_column_values_to_be_in_set: SUCCESS\n",
      "Expectation expect_column_values_to_be_in_set: SUCCESS\n",
      "Expectation expect_column_values_to_be_in_set: SUCCESS\n",
      "Expectation expect_column_values_to_be_in_set: SUCCESS\n",
      "Expectation expect_column_values_to_be_in_set: SUCCESS\n",
      "Expectation expect_column_values_to_be_in_set: SUCCESS\n",
      "Expectation expect_column_values_to_be_in_set: SUCCESS\n",
      "Expectation expect_column_values_to_be_in_set: SUCCESS\n",
      "Expectation expect_column_values_to_be_in_set: SUCCESS\n",
      "Expectation expect_column_values_to_be_in_set: SUCCESS\n",
      "Expectation expect_column_values_to_be_in_set: SUCCESS\n",
      "Expectation expect_column_values_to_be_between: SUCCESS\n",
      "Expectation expect_column_values_to_be_between: SUCCESS\n",
      "Expectation expect_column_values_to_be_between: SUCCESS\n",
      "Expectation expect_column_values_to_be_between: SUCCESS\n"
     ]
    }
   ],
   "source": [
    "import great_expectations as gx\n",
    "from great_expectations.data_context import FileDataContext\n",
    "import pandas as pd\n",
    "import os\n",
    "\n",
    "# Initialize the DataContext\n",
    "if not os.path.exists('../services/gx'):\n",
    "    FileDataContext(project_root_dir = \"../services\")\n",
    "context = gx.get_context(project_root_dir = \"../services\")\n",
    "\n",
    "# Add or update the pandas datasource\n",
    "ds = context.sources.add_or_update_pandas(name = \"pandas_datasource2\")\n",
    "\n",
    "da3 = ds.add_csv_asset(\n",
    "    name = \"csv_file3\",\n",
    "    filepath_or_buffer=\"../data/preprocessed/X.csv\"\n",
    ")\n",
    "\n",
    "# Build batch request\n",
    "batch_request = da3.build_batch_request()\n",
    "\n",
    "# Create a new expectation suite\n",
    "suite_name = \"feature_validation\"\n",
    "context.add_or_update_expectation_suite(suite_name)\n",
    "\n",
    "# Get validator for the batch and expectation suite\n",
    "validator = context.get_validator(\n",
    "    batch_request=batch_request,\n",
    "    expectation_suite_name=suite_name\n",
    ")\n",
    "\n",
    "# Step 3: Create expectations to validate all features\n",
    "# Load data\n",
    "data = pd.read_csv('../data/preprocessed/X.csv')\n",
    "\n",
    "# Define expectations\n",
    "# Expect one-hot encoded columns to be 0 or 1\n",
    "one_hot_columns = [col for col in data.columns if 'flat_type_' in col or 'flat_model_' in col or 'storey_range_' in col]\n",
    "for col in one_hot_columns:\n",
    "    validator.expect_column_values_to_be_in_set(col, [0, 1])\n",
    "\n",
    "# Expect 'floor_area_sqm' to be within a reasonable range\n",
    "validator.expect_column_values_to_be_between(\"floor_area_sqm\", -10, 10)\n",
    "\n",
    "# Expect 'latitude' and 'longitude' to be within valid ranges\n",
    "validator.expect_column_values_to_be_between(\"latitude\", -90, 90)\n",
    "validator.expect_column_values_to_be_between(\"longitude\", -180, 180)\n",
    "\n",
    "# Other expectations based on domain knowledge\n",
    "# For example, expect 'remaining_lease' to be positive\n",
    "validator.expect_column_values_to_be_between(\"remaining_lease\", -10, 10)\n",
    "\n",
    "# Save expectations to suite\n",
    "validator.save_expectation_suite(discard_failed_expectations=False)\n",
    "\n",
    "# Create a checkpoint to check the validity of the features in src/data.py\n",
    "da4 = ds.add_csv_asset(\n",
    "    name = \"csv_file4\",\n",
    "    filepath_or_buffer=\"data/preprocessed/X.csv\",\n",
    ")\n",
    "batch_request4 = da4.build_batch_request()\n",
    "checkpoint = context.add_or_update_checkpoint(\n",
    "    name = \"preprocessed_data_validation_checkpoint_data\",\n",
    "    validations=[\n",
    "        {\n",
    "            \"batch_request\":batch_request4,\n",
    "            \"expectation_suite_name\" : suite_name\n",
    "        }\n",
    "    ]\n",
    ")\n",
    "\n",
    "# validate expectations\n",
    "checkpoint = context.add_or_update_checkpoint(\n",
    "    name = \"preprocessed_data_validation_checkpoint\",\n",
    "    validations=[\n",
    "        {\n",
    "            \"batch_request\":batch_request,\n",
    "            \"expectation_suite_name\" : suite_name\n",
    "        }\n",
    "    ]\n",
    ")\n",
    "\n",
    "results = context.run_checkpoint(checkpoint_name=\"preprocessed_data_validation_checkpoint\")\n",
    "\n",
    "# Print detailed validation results\n",
    "print(\"Validation success:\", results.success)\n",
    "for result in results[\"run_results\"].values():\n",
    "    validation_result = result[\"validation_result\"]\n",
    "    for res in validation_result[\"results\"]:\n",
    "        expectation = res[\"expectation_config\"][\"expectation_type\"]\n",
    "        success = res[\"success\"]\n",
    "        print(f\"Expectation {expectation}: {'SUCCESS' if success else 'FAILURE'}\")\n",
    "        if not success:\n",
    "            print(f\"Details: {res['result']}\")"
   ]
  },
  {
   "cell_type": "code",
   "execution_count": null,
   "metadata": {},
   "outputs": [],
   "source": []
  }
 ],
 "metadata": {
  "kernelspec": {
   "display_name": "venv",
   "language": "python",
   "name": "python3"
  },
  "language_info": {
   "codemirror_mode": {
    "name": "ipython",
    "version": 3
   },
   "file_extension": ".py",
   "mimetype": "text/x-python",
   "name": "python",
   "nbconvert_exporter": "python",
   "pygments_lexer": "ipython3",
   "version": "3.11.0rc1"
  }
 },
 "nbformat": 4,
 "nbformat_minor": 2
}
