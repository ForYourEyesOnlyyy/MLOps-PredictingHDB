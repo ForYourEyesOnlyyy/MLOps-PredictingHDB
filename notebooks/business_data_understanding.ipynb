{
  "cells": [
    {
      "cell_type": "markdown",
      "metadata": {
        "id": "_RbelOPK4TFB"
      },
      "source": [
        "# business and data understanding\n",
        "------------\n",
        "\n",
        "The initial phase is concerned with tasks to define the business objectives and translate it to ML objectives, to collect and verify the data quality and to finaly assess the project feasibility."
      ]
    },
    {
      "cell_type": "markdown",
      "metadata": {
        "id": "cZZ0T5RTaQon"
      },
      "source": [
        "![](https://i.imgur.com/55J7fBc.jpeg)"
      ]
    },
    {
      "cell_type": "code",
      "execution_count": null,
      "metadata": {
        "vscode": {
          "languageId": "plaintext"
        }
      },
      "outputs": [],
      "source": []
    },
    {
      "cell_type": "markdown",
      "metadata": {
        "id": "516PRaCCaQoo"
      },
      "source": [
        "## Terminology\n",
        "\n",
        "### tasks\n",
        "\n",
        "Compile a glossary of terminology relevant to the project. This may include two components:\n",
        "(1) A glossary of relevant business terminology, which forms part of the business understanding available to the project. Constructing this glossary is a useful \"knowledge elicitation\" and education exercise.\n",
        "(2) A glossary of machine learning terminology, illustrated with examples relevant to the business problem in question.\n",
        "\n",
        "### output\n",
        "\n",
        "### 1. Business Terminology\n",
        "\n",
        "#### Key Business Terms for the HDB Resale Price Prediction Project\n",
        "\n",
        "| Term | Definition |\n",
        "|------|------------|\n",
        "| **Resale Price** | The price at which an HDB flat is sold on the secondary market, after its initial purchase from the Housing & Development Board (HDB). |\n",
        "| **HDB (Housing & Development Board)** | A statutory board in Singapore responsible for public housing policies, including the development and management of HDB flats. |\n",
        "| **Flat Type** | Classification of HDB flats based on size and layout, such as 2-room, 3-room, 4-room, and 5-room flats. |\n",
        "| **Town** | The locality or district in Singapore where the HDB flat is situated. |\n",
        "| **Floor Area (sqm)** | The total internal floor space of the flat, measured in square meters. |\n",
        "| **Flat Model** | The design type of the flat, such as Improved, New Generation, or Model A. |\n",
        "| **Lease Commencement Date** | The year the lease of the HDB flat started, typically lasting 99 years. |\n",
        "| **Remaining Lease** | The duration left on the lease of the HDB flat. |\n",
        "| **Storey Range** | The range of floors within the building where the flat is located, often expressed as a range (e.g., 01 to 03). |\n",
        "| **Market Segmentation** | Dividing the market into distinct groups of buyers with different needs or characteristics. |\n",
        "| **Investment Decision** | The process of making choices about where to allocate resources in buying or selling property. |\n",
        "| **Targeted Marketing** | Marketing strategies aimed at specific segments of the market to improve efficiency and effectiveness. |\n",
        "\n",
        "### 2. Machine Learning Terminology\n",
        "\n",
        "#### Key ML Terms for the HDB Resale Price Prediction Project\n",
        "\n",
        "| Term | Definition |\n",
        "|------|------------|\n",
        "| **Regression Model** | A type of statistical model used to predict a continuous outcome variable based on one or more predictor variables. |\n",
        "| **Feature** | An individual measurable property or characteristic used as input to a machine learning model. |\n",
        "| **Target Variable** | The outcome variable that the model aims to predict. |\n",
        "| **Training Data** | The subset of data used to train the machine learning model, helping it learn the relationship between features and the target variable. |\n",
        "| **Test Data** | The subset of data used to evaluate the model’s performance and measure its accuracy. |\n",
        "| **Overfitting** | When a model learns the training data too well, including noise, resulting in poor performance on new data. |\n",
        "| **Underfitting** | When a model is too simple to capture the underlying patterns in the data, leading to poor performance. |\n",
        "| **Cross-Validation** | A technique for assessing how a model generalizes to an independent dataset, typically by splitting the data into multiple training and testing sets. |\n",
        "| **Feature Engineering** | The process of creating new features or modifying existing ones to improve model performance. |\n",
        "| **Hyperparameters** | Parameters of the model that are set before the learning process begins and govern the training process. |\n",
        "| **RMSE (Root Mean Squared Error)** | A metric for evaluating the accuracy of regression models, representing the square root of the average squared differences between predicted and actual values. |\n",
        "| **R² (Coefficient of Determination)** | A metric that indicates the proportion of the variance in the target variable that is predictable from the features. |\n",
        "| **Regularization** | A technique used to prevent overfitting by adding a penalty for larger coefficients in the regression model. |\n",
        "| **Gradient Descent** | An optimization algorithm used to minimize the loss function of a model by iteratively adjusting the model parameters. |\n",
        "| **Residuals** | The differences between observed and predicted values in a regression model, used to assess model accuracy. |\n",
        "| **Data Preprocessing** | The process of cleaning and transforming raw data into a suitable format for modeling. |\n",
        "| **Geospatial Analysis** | Analysis that involves geographic data and spatial relationships. |\n",
        "| **Geocoding** | The process of converting addresses into geographic coordinates (latitude and longitude). |"
      ]
    },
    {
      "cell_type": "code",
      "execution_count": null,
      "metadata": {
        "id": "ZwrzEYeKaQoo",
        "vscode": {
          "languageId": "plaintext"
        }
      },
      "outputs": [],
      "source": [
        "# TODO"
      ]
    },
    {
      "cell_type": "markdown",
      "metadata": {
        "id": "Wfrdzmhe0Zfr"
      },
      "source": [
        "## Scope of the project\n",
        "----------\n",
        "\n",
        "### tasks\n",
        "- Explore the background of the business.\n",
        "- Define business problem\n",
        "- Define business objectives\n",
        "- Translate business objectives into ML objectives\n",
        "\n",
        "The objective here is to thoroughly understand, from a business perspective, what the client really wants to accomplish. Often the client has many competing objectives and constraints that must be properly balanced. The goal is to uncover important factors, at the beginning, that can influence the outcome of the project. A possible consequence of neglecting this step is to expend a great deal of effort producing the right answers to the wrong questions.\n",
        "\n",
        "### output\n",
        "\n",
        "### Scope of the Project\n",
        "\n",
        "### Tasks\n",
        "\n",
        "1. **Explore the Background of the Business:**\n",
        "   - Gather information about the organization and its operational context.\n",
        "   - Understand the market in which the organization operates.\n",
        "   - Identify key stakeholders and their roles.\n",
        "\n",
        "2. **Define the Business Problem:**\n",
        "   - Clearly articulate the core business issue that needs to be addressed.\n",
        "   - Understand the impact of the problem on the business.\n",
        "   - Identify any constraints or limitations that the business faces in addressing the problem.\n",
        "\n",
        "3. **Define Business Objectives:**\n",
        "   - Establish the primary goals that the business wants to achieve.\n",
        "   - Identify any secondary objectives or questions that may be relevant.\n",
        "   - Consider the broader business context and how achieving these objectives will benefit the organization.\n",
        "\n",
        "4. **Translate Business Objectives into ML Objectives:**\n",
        "   - Define how machine learning can be used to achieve the business objectives.\n",
        "   - Specify the types of predictions or insights needed from the ML models.\n",
        "   - Outline the scope of data and the expected outputs of the ML process.\n",
        "\n",
        "### Output\n",
        "\n",
        "#### 1. Background\n",
        "\n",
        "The organization, HDB (Housing & Development Board), is responsible for public housing in Singapore. They provide affordable housing options for a significant portion of the Singaporean population. HDB flats are sold under a lease system, and a robust secondary market exists for these flats. This resale market is crucial for stakeholders, including buyers, sellers, and investors, who rely on accurate pricing to make informed decisions. As of now, the organization seeks to leverage data on HDB resale transactions to enhance decision-making processes and improve market efficiency. The dataset contains detailed transaction records from January 2017 to June 2024, including information on transaction month, town, flat type, storey range, and resale price.\n",
        "\n",
        "#### 2. Business Problem\n",
        "\n",
        "The primary business problem is the need for accurate predictions of HDB flat resale prices. Stakeholders, including potential buyers, sellers, and investors, require reliable price estimates to make informed decisions in the housing market. Currently, price estimation relies heavily on market knowledge and simple comparative methods, which may not account for the complex interactions of various factors influencing resale prices. There is also a need for improved market segmentation to allow for more targeted marketing and sales strategies. This project aims to provide a more sophisticated, data-driven approach to predicting resale prices, thereby enhancing decision-making and market efficiency.\n",
        "\n",
        "#### 3. Business Objectives\n",
        "\n",
        "- **Primary Objective:** Develop a predictive model to accurately estimate the resale prices of HDB flats based on available transaction data and property characteristics.\n",
        "- **Secondary Objectives:**\n",
        "  - Determine how different features, such as flat type, location, floor area, and remaining lease, impact resale prices.\n",
        "  - Identify trends and patterns in the HDB resale market over time.\n",
        "  - Enable better market segmentation by understanding price dynamics across different towns and flat types.\n",
        "  - Provide insights into the geographic distribution of resale prices using geospatial data.\n",
        "  - Support targeted marketing efforts by categorizing properties based on price predictions.\n",
        "\n",
        "#### 4. ML Objectives\n",
        "\n",
        "- **Predict Resale Prices:** Build a regression model to predict the resale price of HDB flats using features such as transaction month, town, flat type, block, street name, storey range, floor area, flat model, lease commencement date, and remaining lease.\n",
        "- **Feature Importance Analysis:** Analyze and identify which features most significantly impact resale prices to provide actionable insights.\n",
        "- **Temporal Trends Analysis:** Explore the temporal patterns in the resale market to understand how prices evolve over time.\n",
        "- **Geospatial Insights:** Incorporate geospatial analysis to visualize and understand the geographic distribution of resale prices and identify spatial trends.\n",
        "- **Price Segmentation:** Develop methods to categorize properties into different price segments based on predicted values, supporting targeted marketing strategies."
      ]
    },
    {
      "cell_type": "code",
      "execution_count": null,
      "metadata": {
        "id": "wQdRVWd9aQop",
        "vscode": {
          "languageId": "plaintext"
        }
      },
      "outputs": [],
      "source": [
        "# TODO"
      ]
    },
    {
      "cell_type": "markdown",
      "metadata": {
        "id": "rRCq_z_raQop"
      },
      "source": [
        "## Success Criteria\n",
        "-------------\n",
        "\n",
        "### tasks\n",
        "- Describe the success criteria of the ML project on three different levels: the business success criteria, the ML success criteria and the economic success criteria.\n",
        "\n",
        "### output\n",
        "\n",
        "### Success Criteria\n",
        "\n",
        "### Tasks\n",
        "\n",
        "1. **Describe the Business Success Criteria:**\n",
        "   - Define what successful outcomes look like from a business perspective.\n",
        "   - Identify specific, measurable goals that align with the organization's strategic objectives.\n",
        "\n",
        "2. **Describe the ML Success Criteria:**\n",
        "   - Establish technical benchmarks and performance metrics for the machine learning model.\n",
        "   - Specify the desired level of accuracy, precision, or other relevant metrics that indicate successful model performance.\n",
        "\n",
        "3. **Describe the Economic Success Criteria:**\n",
        "   - Determine the financial or economic impacts that signify success.\n",
        "   - Identify cost savings, revenue increases, or other economic benefits expected from the project.\n",
        "\n",
        "### Output\n",
        "\n",
        "#### 1. Business Success Criteria\n",
        "\n",
        "| Criteria | Description |\n",
        "|----------|-------------|\n",
        "| **Accurate Resale Price Predictions** | The model should predict HDB resale prices with high accuracy, reducing the average prediction error to less than 5% compared to actual resale prices. |\n",
        "| **Improved Decision-Making** | The model’s predictions should enhance stakeholders' ability to make informed buying, selling, and investment decisions, leading to increased customer satisfaction and confidence in market transactions. |\n",
        "| **Enhanced Market Segmentation** | Using the model’s outputs, HDB should be able to identify distinct segments in the resale market and tailor marketing strategies effectively, resulting in more targeted and efficient marketing efforts. |\n",
        "| **Identification of Market Trends** | The analysis should uncover key trends and patterns in the HDB resale market, providing valuable insights that can inform future business strategies and policy decisions. |\n",
        "| **Geospatial Analysis Capabilities** | The project should successfully incorporate geospatial data, enabling the visualization of geographic trends and the spatial distribution of resale prices across different regions. |\n",
        "\n",
        "#### 2. ML Success Criteria\n",
        "\n",
        "| Criteria | Description |\n",
        "|----------|-------------|\n",
        "| **Model Accuracy** | The regression model should achieve a high level of predictive accuracy, ideally with a Root Mean Squared Error (RMSE) of less than SGD 30,000 on the test data. |\n",
        "| **Model Generalization** | The model should generalize well to new, unseen data, as demonstrated by consistent performance across various cross-validation folds and test sets. |\n",
        "| **Feature Importance Insight** | The model should provide clear insights into which features most significantly influence resale prices, allowing stakeholders to understand the driving factors behind price variations. |\n",
        "| **Temporal Stability** | The model should be robust over different time periods, indicating its ability to handle changes in market conditions and maintain performance over time. |\n",
        "| **Geospatial Accuracy** | When incorporating geographic data, the model should accurately reflect spatial trends and correlations in the resale prices. |\n",
        "| **Interpretability** | The model should be interpretable, meaning that stakeholders can understand how it makes predictions and the rationale behind its outputs. This is crucial for trust and adoption of the model’s insights. |\n",
        "\n",
        "#### 3. Economic Success Criteria\n",
        "\n",
        "| Criteria | Description |\n",
        "|----------|-------------|\n",
        "| **Cost Efficiency** | The project should reduce the need for extensive manual market analysis and consultancy, leading to cost savings in operational and advisory expenses. |\n",
        "| **Increased Revenue** | By providing more accurate price predictions and better market segmentation, the project should contribute to increased revenue through more effective sales and marketing strategies. |\n",
        "| **Return on Investment (ROI)** | The project should deliver a positive ROI, calculated as the financial benefits derived from the model (such as cost savings and increased revenue) outweighing the costs of developing and implementing the model. |\n",
        "| **Market Competitiveness** | The ability to accurately predict resale prices and understand market trends should improve HDB's competitive positioning in the housing market, attracting more buyers and sellers to use their services. |\n",
        "| **Resource Allocation** | Efficient resource allocation in marketing and sales efforts, guided by the model’s insights, should result in better utilization of financial and human resources. |"
      ]
    },
    {
      "cell_type": "code",
      "execution_count": null,
      "metadata": {
        "id": "2bT0gsVcaQoq",
        "vscode": {
          "languageId": "plaintext"
        }
      },
      "outputs": [],
      "source": [
        "# TODO"
      ]
    },
    {
      "cell_type": "markdown",
      "metadata": {
        "id": "UuRcECj0aQoq"
      },
      "source": [
        "## Data collection\n",
        "\n",
        "### tasks\n",
        "- Specify the data sources\n",
        "- Collect the data\n",
        "- Version control on the data\n",
        "\n",
        "### output\n",
        "\n",
        "Based on the provided images and additional information, let's outline the data collection and version control aspects for the HDB resale price prediction project.\n",
        "\n",
        "## Data Collection\n",
        "\n",
        "### Tasks\n",
        "\n",
        "1. **Specify the Data Sources:**\n",
        "   - Identify all sources of data required for the project.\n",
        "   - Define the type and structure of data available from these sources.\n",
        "\n",
        "2. **Collect the Data:**\n",
        "   - Implement methods to retrieve the data from the specified sources.\n",
        "   - Ensure the data collected meets the project's quality and completeness requirements.\n",
        "\n",
        "3. **Version Control on the Data:**\n",
        "   - Establish a system to manage changes and updates to the data.\n",
        "   - Implement processes for backing up and archiving data, as well as controlling access.\n",
        "\n",
        "### Output\n",
        "\n",
        "#### 1. Data Collection Report\n",
        "\n",
        "| Aspect | Description |\n",
        "|--------|-------------|\n",
        "| **Data Source** | The dataset was sourced from [data.gov.sg](https://data.gov.sg/), which is the Singapore government's open data portal. It contains comprehensive records of HDB flat resale transactions from January 2017 to June 2024. |\n",
        "| **Data Type** | The dataset includes both numerical and categorical data:**Numerical Data:** Floor area in square meters, lease commencement date, remaining lease in years and months, resale price in Singapore dollars. **Categorical Data:** Transaction month, town, flat type, block, street name, storey range, and flat model. |\n",
        "| **Data Size** | The dataset comprises approximately 181,000 rows and 11 columns, covering transactions from January 1, 2017, to June 1, 2024. |\n",
        "| **Data Collection Method** | The data was downloaded directly from data.gov.sg in CSV format. To enhance the dataset with geographic coordinates, geocoding services like Google Maps API and Singapore's OneMap API can be used to convert street names into latitude and longitude coordinates. This enables spatial analysis of resale prices. |\n",
        "\n",
        "#### 2. Data Version Control Report\n",
        "\n",
        "| Aspect | Description |\n",
        "|--------|-------------|\n",
        "| **Data Version** | The dataset follows a versioning scheme to track changes and updates. The initial dataset version is v1.0, corresponding to the data as of June 1, 2024. Future updates and modifications will be tracked with subsequent versions, such as v1.1, v1.2, etc. |\n",
        "| **Data Change Log** | All changes to the dataset are recorded in a change log. This includes additions of new data, updates to existing records, and any modifications to data structure. For instance, v1.1 might include updated records or new features like geocoded coordinates. The log details the date, nature, and reasons for each change. |\n",
        "| **Data Backup** | Regular backups are performed to safeguard against data loss. The dataset is backed up daily and stored securely on a cloud server. This ensures that in the event of data corruption or loss, a recent version of the data can be restored. |\n",
        "| **Data Archiving** | Historical versions of the dataset are archived for long-term storage. Data older than a year or replaced by newer versions is archived in a cloud storage service. This facilitates retrieval for historical analysis or rollback if needed. |\n",
        "| **Data Access Control** | Access to the dataset is controlled using role-based permissions. Only authorized personnel can view or modify the data, ensuring data integrity and security. Access logs are maintained to track who accessed the data and when, providing a clear audit trail. |"
      ]
    },
    {
      "cell_type": "code",
      "execution_count": null,
      "metadata": {
        "id": "NhX3N0nRaQoq",
        "vscode": {
          "languageId": "plaintext"
        }
      },
      "outputs": [],
      "source": [
        "# TODO"
      ]
    },
    {
      "cell_type": "markdown",
      "metadata": {
        "id": "j1RoNg5PaQoq"
      },
      "source": [
        "## Data quality verification\n",
        "\n",
        "### tasks\n",
        "- Describe data\n",
        "- Define data requirements\n",
        "- Explore the data\n",
        "- Verify the data quality\n",
        "\n",
        "### output\n",
        "\n",
        "#### 1. Data description\n",
        "A section to describe the data that has been acquired including its format, its quantity (for example, the number of records and fields in each table), the identities of the fields and any other surface features which have been discovered. Add a table of description of the data features.\n",
        "\n",
        "> ##### Example\n",
        "> - The data acquired for this project includes a dataset of 1000 records with 20 fields each. The fields include customer demographics, purchase history, and product preferences. The data is in a CSV format and is stored in a local database.\n",
        "> - Add a table of description of the data features.\n",
        "\n",
        "#### 2. Data exploration\n",
        "A section to present results of your data exploration, including first findings or initial hypothesis and their impact on the remainder of the project. If appropriate you could include graphs and plots here to indicate data characteristics that suggest further examination of interesting data subsets.\n",
        "\n",
        "> ##### Example\n",
        "> - During data exploration, several interesting patterns and correlations were discovered. For example, there is a strong correlation between the age of customers and their purchase frequency. Additionally, customers who have purchased from the company in the past are more likely to make repeat purchases. These findings suggest that the data is representative of the target audience and that the company's marketing strategies are effective.\n",
        "> - Add charts and figures to present the findings.\n",
        "\n",
        "#### 3. Data requirements\n",
        "A section to describe the data requirements. The requirements can be defined either on the meta-level or directly in the data, and should state the expected conditions of the data, i.e., whether a certain sample is plausible. The requirements can be, e.g., the expected feature values (a range for continuous features or a list for discrete features), the format of the data and the maximum number of missing values. The bounds of the requirements has to be defined carefully to include all possible real world values but discard non-plausible data. Data that does not satisfy the expected conditions could be treated as anomalies and need to be evaluated manually or excluded automatically. To mitigate the risk of anchoring bias in this first phase discussing the requirements with a domain expert is advised. Documentation of the data requirements could be expressed in the form of a schema with strict data types and conditions.\n",
        "\n",
        "> ##### Example\n",
        "> - The data requirements for this project are defined as follows:\n",
        "> > - Customer Demographics: Age should be within the range of 18 to 100 years, and gender should be either male or female.\n",
        "> > - Purchase History: The number of purchases should be greater than or equal to 0, and the total amount spent should be greater than or equal to $0.\n",
        "> > - Product Preferences: The product preferences should be represented as a list of product IDs, and each product ID should be unique and within the range of 1 to 1000.\n",
        "> > - Here we define expectations to satisfy the data requirements.\n",
        "\n",
        "#### 4 Data quality verification report\n",
        "A section to verify and report the quality of the data. Examine the quality of the data, addressing questions such as:\n",
        "- Is the data complete (does it cover all the cases required)?\n",
        "- Is it correct, or does it contain errors and, if there are errors, how common are they?\n",
        "- Are there missing values in the data? If so, how are they represented, where do they occur, and how common are they?\n",
        "\n",
        "> ##### Example\n",
        "> - Completeness: The data is complete in the sense that it covers all the required cases. All customers have demographic information, and all purchases are recorded.\n",
        "> - Correctness: The data appears to be correct, with no obvious errors. However, a manual review of the data is recommended to ensure that there are no errors.\n",
        "> - Missing Values: There are no missing values in the data.\n",
        "> - Overall, the data quality is high, and the data is suitable for analysis and modeling. However, a manual review of the data is recommended to ensure that there are no errors or anomalies."
      ]
    },
    {
      "cell_type": "code",
      "execution_count": null,
      "metadata": {
        "id": "5b5MJKQwaQor",
        "vscode": {
          "languageId": "plaintext"
        }
      },
      "outputs": [],
      "source": [
        "# TODO"
      ]
    },
    {
      "cell_type": "markdown",
      "metadata": {
        "id": "AZCQA0YfF1Yq"
      },
      "source": [
        "## Project feasibility\n",
        "-------------\n",
        "This task involves more detailed fact-finding about all of the resources,constraints, assumptions and other factors that should be considered in determining the data analysis goal and project plan. In the previous task, your objective is to quickly get to the crux of the situation. Here, you want to flesh out the details.\n",
        "\n",
        "### tasks\n",
        "- Assess the project feasibility\n",
        "- Create POC (Proof-of-concept) model\n",
        "\n",
        "### output\n",
        "\n",
        "#### 1. inventory of resources\n",
        "\n",
        "List the resources available to the project, including: personnel (business experts, data experts, technical support, machine learning personnel), data (fixed extracts, access to live warehoused or operational data), computing resources (hardware platforms) and software (machine learning tools, other relevant software).\n",
        "\n",
        "#### 2. Requirements, assumptions and constraints\n",
        "\n",
        "List all requirements of the project including schedule of completion, comprehensibility and quality of results and security as well as legal issues.As part of this output, make sure that you are allowed to use the data. List the assumptions made by the project.\n",
        "\n",
        "These may be assumptions about the data that can be checked during machine learning, but may also include non-checkable assumptions about the business upon which the project rests. It is particularly important to list the latter if they form conditions on the validity of the results.\n",
        "\n",
        "List the constraints on the project. These may be constraints on the availability of resources, but may also include technological constraints such as the size of data that it is practical to use for modeling.\n",
        "\n",
        "#### 3. Risks and contingencies\n",
        "\n",
        "List the risks or events that might occur to delay the project or cause it to fail. List the corresponding contingency plans; what action will be taken if the risks happen.\n",
        "\n",
        "\n",
        "#### 4. Costs and benefits\n",
        "\n",
        "Construct a cost-benefit analysis for the project, which compares the costs of the project with the potential benefit to the business if it is successful. The comparison should be as specific as possible.\n",
        "\n",
        "![](https://i.imgur.com/XU2lghc.png)\n",
        "\n",
        "#### 5. Feasibility report\n",
        "\n",
        "Build a POC ML model and explain as a team whether it is feasible to do this ML project or not. If not, then you need to find another business problem. They key factors here are related to data availability, quality, costs and nature of business problem."
      ]
    },
    {
      "cell_type": "code",
      "execution_count": null,
      "metadata": {
        "id": "tb-TTtymaQor",
        "vscode": {
          "languageId": "plaintext"
        }
      },
      "outputs": [],
      "source": [
        "# TODO"
      ]
    },
    {
      "cell_type": "markdown",
      "metadata": {
        "id": "uv9AUIJEaQor"
      },
      "source": [
        "## produce project plan\n",
        "----------------\n",
        "\n",
        "### task\n",
        "\n",
        "Describe the intended plan for achieving the machine learning goals and thereby achieving the business goals. The plan should specify the anticipated set of steps to be performed during the rest of the project including an initial selection of tools and techniques.\n",
        "\n",
        "### output\n",
        "\n",
        "#### 1. Project plan\n",
        "- List the stages to be executed in the project, together with their duration, resources required, inputs, outputs, and dependencies. Where possible, try and make explicit the large-scale iterations in the machine learning process, for example, repetitions of the modeling and evaluation phases. As part of the project plan, it is also important to analyze dependencies between time schedule and risks. Mark results of these analyses explicitly in the project plan, ideally with actions and recommendations if the risks are manifested. Decide at this point which evaluation strategy will be used in the evaluation phase. Your project plan will be a dynamic document. At the end of each phase you’ll review progress and achievements and update the project plan accordingly. Specific review points for these updates should be part of the project plan.\n",
        "\n",
        "- Build a Gantt chart for the project tasks and phases using some online platforms like TeamGantt, jira, goodday, tello, ...etc\n",
        "\n",
        "- Add all of your team members and assign tasks to them preliminary. Then you check daily the progress.\n",
        "\n",
        "#### 2. ML project Canvas\n",
        "At the end of the first phase, you should create a canvas for the project as a summary of this phase.\n",
        "\n",
        "\n",
        "> ##### Example\n",
        "> Follow the link: https://github.com/louisdorard/machine-learning-canvas/blob/master/churn.pdf\n"
      ]
    },
    {
      "cell_type": "code",
      "execution_count": null,
      "metadata": {
        "id": "bTBMBPkuaQos",
        "vscode": {
          "languageId": "plaintext"
        }
      },
      "outputs": [],
      "source": [
        "# TODO"
      ]
    }
  ],
  "metadata": {
    "colab": {
      "provenance": []
    },
    "kernelspec": {
      "display_name": "Python 3 (ipykernel)",
      "language": "python",
      "name": "python3"
    },
    "language_info": {
      "codemirror_mode": {
        "name": "ipython",
        "version": 3
      },
      "file_extension": ".py",
      "mimetype": "text/x-python",
      "name": "python",
      "nbconvert_exporter": "python",
      "pygments_lexer": "ipython3",
      "version": "3.12.0"
    }
  },
  "nbformat": 4,
  "nbformat_minor": 0
}
