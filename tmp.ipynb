{
 "cells": [
  {
   "cell_type": "code",
   "execution_count": 6,
   "metadata": {},
   "outputs": [],
   "source": [
    "import pandas as pd\n",
    "from data import transform_data, preprocess_data\n",
    "from utils import init_hydra\n",
    "import json\n",
    "import numpy as np\n",
    "import pickle"
   ]
  },
  {
   "cell_type": "code",
   "execution_count": 5,
   "metadata": {},
   "outputs": [],
   "source": [
    "df = pd.read_csv('data/samples/sample.csv')"
   ]
  },
  {
   "cell_type": "code",
   "execution_count": 45,
   "metadata": {},
   "outputs": [
    {
     "data": {
      "text/plain": [
       "(181261, 11)"
      ]
     },
     "execution_count": 45,
     "metadata": {},
     "output_type": "execute_result"
    }
   ],
   "source": [
    "df.shape"
   ]
  },
  {
   "cell_type": "code",
   "execution_count": 39,
   "metadata": {},
   "outputs": [
    {
     "data": {
      "text/plain": [
       "Index(['month', 'town', 'flat_type', 'block', 'street_name', 'storey_range',\n",
       "       'floor_area_sqm', 'flat_model', 'lease_commence_date',\n",
       "       'remaining_lease', 'resale_price'],\n",
       "      dtype='object')"
      ]
     },
     "execution_count": 39,
     "metadata": {},
     "output_type": "execute_result"
    }
   ],
   "source": [
    "df.columns"
   ]
  },
  {
   "cell_type": "code",
   "execution_count": 2,
   "metadata": {},
   "outputs": [],
   "source": [
    "cfg = init_hydra()"
   ]
  },
  {
   "cell_type": "code",
   "execution_count": 41,
   "metadata": {},
   "outputs": [],
   "source": [
    "first_row_df = df.iloc[[0]]\n",
    "df = df.drop(df.index[0])"
   ]
  },
  {
   "cell_type": "code",
   "execution_count": 42,
   "metadata": {},
   "outputs": [
    {
     "data": {
      "text/html": [
       "<div>\n",
       "<style scoped>\n",
       "    .dataframe tbody tr th:only-of-type {\n",
       "        vertical-align: middle;\n",
       "    }\n",
       "\n",
       "    .dataframe tbody tr th {\n",
       "        vertical-align: top;\n",
       "    }\n",
       "\n",
       "    .dataframe thead th {\n",
       "        text-align: right;\n",
       "    }\n",
       "</style>\n",
       "<table border=\"1\" class=\"dataframe\">\n",
       "  <thead>\n",
       "    <tr style=\"text-align: right;\">\n",
       "      <th></th>\n",
       "      <th>month</th>\n",
       "      <th>town</th>\n",
       "      <th>flat_type</th>\n",
       "      <th>block</th>\n",
       "      <th>street_name</th>\n",
       "      <th>storey_range</th>\n",
       "      <th>floor_area_sqm</th>\n",
       "      <th>flat_model</th>\n",
       "      <th>lease_commence_date</th>\n",
       "      <th>remaining_lease</th>\n",
       "      <th>resale_price</th>\n",
       "    </tr>\n",
       "  </thead>\n",
       "  <tbody>\n",
       "    <tr>\n",
       "      <th>0</th>\n",
       "      <td>2019-03</td>\n",
       "      <td>SEMBAWANG</td>\n",
       "      <td>3 ROOM</td>\n",
       "      <td>590B</td>\n",
       "      <td>MONTREAL LINK</td>\n",
       "      <td>16 TO 18</td>\n",
       "      <td>68.0</td>\n",
       "      <td>Model A</td>\n",
       "      <td>2015</td>\n",
       "      <td>95 years 01 month</td>\n",
       "      <td>292000.0</td>\n",
       "    </tr>\n",
       "  </tbody>\n",
       "</table>\n",
       "</div>"
      ],
      "text/plain": [
       "     month       town flat_type block    street_name storey_range  \\\n",
       "0  2019-03  SEMBAWANG    3 ROOM  590B  MONTREAL LINK     16 TO 18   \n",
       "\n",
       "   floor_area_sqm flat_model  lease_commence_date    remaining_lease  \\\n",
       "0            68.0    Model A                 2015  95 years 01 month   \n",
       "\n",
       "   resale_price  \n",
       "0      292000.0  "
      ]
     },
     "execution_count": 42,
     "metadata": {},
     "output_type": "execute_result"
    }
   ],
   "source": [
    "first_row_df"
   ]
  },
  {
   "cell_type": "code",
   "execution_count": 43,
   "metadata": {},
   "outputs": [],
   "source": [
    "df.to_csv('data/samples/sample.csv', index=False)"
   ]
  },
  {
   "cell_type": "code",
   "execution_count": 50,
   "metadata": {},
   "outputs": [],
   "source": [
    "first_row_df.drop(columns=[cfg.prepr_data.target_feature], inplace=True)"
   ]
  },
  {
   "cell_type": "code",
   "execution_count": 51,
   "metadata": {},
   "outputs": [
    {
     "data": {
      "text/plain": [
       "Index(['month', 'town', 'flat_type', 'block', 'street_name', 'storey_range',\n",
       "       'floor_area_sqm', 'flat_model', 'lease_commence_date',\n",
       "       'remaining_lease'],\n",
       "      dtype='object')"
      ]
     },
     "execution_count": 51,
     "metadata": {},
     "output_type": "execute_result"
    }
   ],
   "source": [
    "first_row_df.columns"
   ]
  },
  {
   "cell_type": "code",
   "execution_count": 52,
   "metadata": {},
   "outputs": [],
   "source": [
    "X = transform_data(\n",
    "                        df = first_row_df, \n",
    "                        cfg = cfg\n",
    "                      )"
   ]
  },
  {
   "cell_type": "code",
   "execution_count": 53,
   "metadata": {},
   "outputs": [
    {
     "data": {
      "text/html": [
       "<div>\n",
       "<style scoped>\n",
       "    .dataframe tbody tr th:only-of-type {\n",
       "        vertical-align: middle;\n",
       "    }\n",
       "\n",
       "    .dataframe tbody tr th {\n",
       "        vertical-align: top;\n",
       "    }\n",
       "\n",
       "    .dataframe thead th {\n",
       "        text-align: right;\n",
       "    }\n",
       "</style>\n",
       "<table border=\"1\" class=\"dataframe\">\n",
       "  <thead>\n",
       "    <tr style=\"text-align: right;\">\n",
       "      <th></th>\n",
       "      <th>flat_type_1 ROOM</th>\n",
       "      <th>flat_type_2 ROOM</th>\n",
       "      <th>flat_type_3 ROOM</th>\n",
       "      <th>flat_type_4 ROOM</th>\n",
       "      <th>flat_type_5 ROOM</th>\n",
       "      <th>flat_type_EXECUTIVE</th>\n",
       "      <th>flat_type_MULTI-GENERATION</th>\n",
       "      <th>storey_range_01 TO 03</th>\n",
       "      <th>storey_range_04 TO 06</th>\n",
       "      <th>storey_range_07 TO 09</th>\n",
       "      <th>...</th>\n",
       "      <th>flat_model_Standard</th>\n",
       "      <th>flat_model_Terrace</th>\n",
       "      <th>flat_model_Type S1</th>\n",
       "      <th>flat_model_Type S2</th>\n",
       "      <th>floor_area_sqm</th>\n",
       "      <th>month</th>\n",
       "      <th>lease_commence_date</th>\n",
       "      <th>remaining_lease</th>\n",
       "      <th>latitude</th>\n",
       "      <th>longitude</th>\n",
       "    </tr>\n",
       "  </thead>\n",
       "  <tbody>\n",
       "    <tr>\n",
       "      <th>181261</th>\n",
       "      <td>0.0</td>\n",
       "      <td>0.0</td>\n",
       "      <td>1.0</td>\n",
       "      <td>0.0</td>\n",
       "      <td>0.0</td>\n",
       "      <td>0.0</td>\n",
       "      <td>0.0</td>\n",
       "      <td>0.0</td>\n",
       "      <td>0.0</td>\n",
       "      <td>0.0</td>\n",
       "      <td>...</td>\n",
       "      <td>0.0</td>\n",
       "      <td>0.0</td>\n",
       "      <td>0.0</td>\n",
       "      <td>0.0</td>\n",
       "      <td>-1.213397</td>\n",
       "      <td>-0.829283</td>\n",
       "      <td>1.352166</td>\n",
       "      <td>1.325572</td>\n",
       "      <td>1.4501</td>\n",
       "      <td>103.827074</td>\n",
       "    </tr>\n",
       "  </tbody>\n",
       "</table>\n",
       "<p>1 rows × 50 columns</p>\n",
       "</div>"
      ],
      "text/plain": [
       "        flat_type_1 ROOM  flat_type_2 ROOM  flat_type_3 ROOM  \\\n",
       "181261               0.0               0.0               1.0   \n",
       "\n",
       "        flat_type_4 ROOM  flat_type_5 ROOM  flat_type_EXECUTIVE  \\\n",
       "181261               0.0               0.0                  0.0   \n",
       "\n",
       "        flat_type_MULTI-GENERATION  storey_range_01 TO 03  \\\n",
       "181261                         0.0                    0.0   \n",
       "\n",
       "        storey_range_04 TO 06  storey_range_07 TO 09  ...  \\\n",
       "181261                    0.0                    0.0  ...   \n",
       "\n",
       "        flat_model_Standard  flat_model_Terrace  flat_model_Type S1  \\\n",
       "181261                  0.0                 0.0                 0.0   \n",
       "\n",
       "        flat_model_Type S2  floor_area_sqm     month  lease_commence_date  \\\n",
       "181261                 0.0       -1.213397 -0.829283             1.352166   \n",
       "\n",
       "        remaining_lease  latitude   longitude  \n",
       "181261         1.325572    1.4501  103.827074  \n",
       "\n",
       "[1 rows x 50 columns]"
      ]
     },
     "execution_count": 53,
     "metadata": {},
     "output_type": "execute_result"
    }
   ],
   "source": [
    "X"
   ]
  },
  {
   "cell_type": "code",
   "execution_count": 59,
   "metadata": {},
   "outputs": [
    {
     "name": "stdout",
     "output_type": "stream",
     "text": [
      "flat_type_3 ROOM\n",
      "storey_range_16 TO 18\n",
      "flat_model_Model A\n"
     ]
    }
   ],
   "source": [
    "for column in X.columns:\n",
    "    if (X[column] == 1).any():\n",
    "        print(column)"
   ]
  },
  {
   "cell_type": "code",
   "execution_count": 61,
   "metadata": {},
   "outputs": [],
   "source": [
    "example = X.iloc[0,:]\n",
    "\n",
    "example = json.dumps( \n",
    "        { \"inputs\": example.to_dict() }\n",
    "    )\n",
    "\n"
   ]
  },
  {
   "cell_type": "code",
   "execution_count": 62,
   "metadata": {},
   "outputs": [
    {
     "data": {
      "text/plain": [
       "'{\"inputs\": {\"flat_type_1 ROOM\": 0.0, \"flat_type_2 ROOM\": 0.0, \"flat_type_3 ROOM\": 1.0, \"flat_type_4 ROOM\": 0.0, \"flat_type_5 ROOM\": 0.0, \"flat_type_EXECUTIVE\": 0.0, \"flat_type_MULTI-GENERATION\": 0.0, \"storey_range_01 TO 03\": 0.0, \"storey_range_04 TO 06\": 0.0, \"storey_range_07 TO 09\": 0.0, \"storey_range_10 TO 12\": 0.0, \"storey_range_13 TO 15\": 0.0, \"storey_range_16 TO 18\": 1.0, \"storey_range_19 TO 21\": 0.0, \"storey_range_22 TO 24\": 0.0, \"storey_range_25 TO 27\": 0.0, \"storey_range_28 TO 30\": 0.0, \"storey_range_31 TO 33\": 0.0, \"storey_range_34 TO 36\": 0.0, \"storey_range_37 TO 39\": 0.0, \"storey_range_40 TO 42\": 0.0, \"storey_range_43 TO 45\": 0.0, \"storey_range_46 TO 48\": 0.0, \"storey_range_49 TO 51\": 0.0, \"flat_model_2-room\": 0.0, \"flat_model_3Gen\": 0.0, \"flat_model_Adjoined flat\": 0.0, \"flat_model_Apartment\": 0.0, \"flat_model_DBSS\": 0.0, \"flat_model_Improved\": 0.0, \"flat_model_Improved-Maisonette\": 0.0, \"flat_model_Maisonette\": 0.0, \"flat_model_Model A\": 1.0, \"flat_model_Model A-Maisonette\": 0.0, \"flat_model_Model A2\": 0.0, \"flat_model_Multi Generation\": 0.0, \"flat_model_New Generation\": 0.0, \"flat_model_Premium Apartment\": 0.0, \"flat_model_Premium Apartment Loft\": 0.0, \"flat_model_Simplified\": 0.0, \"flat_model_Standard\": 0.0, \"flat_model_Terrace\": 0.0, \"flat_model_Type S1\": 0.0, \"flat_model_Type S2\": 0.0, \"floor_area_sqm\": -1.2133968470616117, \"month\": -0.8292833206768812, \"lease_commence_date\": 1.352166015369763, \"remaining_lease\": 1.3255720188243645, \"latitude\": 1.4501003, \"longitude\": 103.8270738}}'"
      ]
     },
     "execution_count": 62,
     "metadata": {},
     "output_type": "execute_result"
    }
   ],
   "source": [
    "example"
   ]
  },
  {
   "cell_type": "code",
   "execution_count": 68,
   "metadata": {},
   "outputs": [
    {
     "data": {
      "text/plain": [
       "array(['Model A', 'Improved', 'New Generation', 'DBSS', 'Simplified',\n",
       "       'Apartment', 'Standard', 'Premium Apartment', 'Maisonette',\n",
       "       'Model A-Maisonette', 'Premium Apartment Loft',\n",
       "       'Premium Maisonette', 'Type S1', 'Model A2', 'Type S2', '2-room',\n",
       "       'Terrace', 'Adjoined flat', 'Improved-Maisonette',\n",
       "       'Multi Generation', '3Gen'], dtype=object)"
      ]
     },
     "execution_count": 68,
     "metadata": {},
     "output_type": "execute_result"
    }
   ],
   "source": [
    "df['flat_model'].unique()"
   ]
  },
  {
   "cell_type": "code",
   "execution_count": 4,
   "metadata": {},
   "outputs": [],
   "source": [
    "file_name = 'models/random_forest/random_forest_champion.pkl'\n",
    "model = pickle.load(open(file_name, 'rb'))"
   ]
  },
  {
   "cell_type": "code",
   "execution_count": 7,
   "metadata": {},
   "outputs": [],
   "source": [
    "X, y = preprocess_data(data=df, cfg=cfg)\n"
   ]
  },
  {
   "cell_type": "code",
   "execution_count": 12,
   "metadata": {},
   "outputs": [
    {
     "data": {
      "text/plain": [
       "array([633177.86858802, 556933.383114  , 465677.67762066, ...,\n",
       "       565605.29430263, 490807.0348036 , 608193.10440043])"
      ]
     },
     "execution_count": 12,
     "metadata": {},
     "output_type": "execute_result"
    }
   ],
   "source": [
    "model.predict(X)"
   ]
  },
  {
   "cell_type": "code",
   "execution_count": 13,
   "metadata": {},
   "outputs": [
    {
     "data": {
      "text/plain": [
       "Index(['flat_type_1 ROOM', 'flat_type_2 ROOM', 'flat_type_3 ROOM',\n",
       "       'flat_type_4 ROOM', 'flat_type_5 ROOM', 'flat_type_EXECUTIVE',\n",
       "       'flat_type_MULTI-GENERATION', 'storey_range_01 TO 03',\n",
       "       'storey_range_04 TO 06', 'storey_range_07 TO 09',\n",
       "       'storey_range_10 TO 12', 'storey_range_13 TO 15',\n",
       "       'storey_range_16 TO 18', 'storey_range_19 TO 21',\n",
       "       'storey_range_22 TO 24', 'storey_range_25 TO 27',\n",
       "       'storey_range_28 TO 30', 'storey_range_31 TO 33',\n",
       "       'storey_range_34 TO 36', 'storey_range_37 TO 39',\n",
       "       'storey_range_40 TO 42', 'storey_range_43 TO 45',\n",
       "       'storey_range_46 TO 48', 'storey_range_49 TO 51', 'flat_model_2-room',\n",
       "       'flat_model_3Gen', 'flat_model_Adjoined flat', 'flat_model_Apartment',\n",
       "       'flat_model_DBSS', 'flat_model_Improved',\n",
       "       'flat_model_Improved-Maisonette', 'flat_model_Maisonette',\n",
       "       'flat_model_Model A', 'flat_model_Model A-Maisonette',\n",
       "       'flat_model_Model A2', 'flat_model_Multi Generation',\n",
       "       'flat_model_New Generation', 'flat_model_Premium Apartment',\n",
       "       'flat_model_Premium Apartment Loft', 'flat_model_Simplified',\n",
       "       'flat_model_Standard', 'flat_model_Terrace', 'flat_model_Type S1',\n",
       "       'flat_model_Type S2', 'floor_area_sqm', 'month', 'lease_commence_date',\n",
       "       'remaining_lease', 'latitude', 'longitude'],\n",
       "      dtype='object')"
      ]
     },
     "execution_count": 13,
     "metadata": {},
     "output_type": "execute_result"
    }
   ],
   "source": [
    "X = X.astype('float64')\n",
    "X.columns"
   ]
  },
  {
   "cell_type": "code",
   "execution_count": 15,
   "metadata": {},
   "outputs": [],
   "source": [
    "c1 = ['flat_type_1 ROOM', 'flat_type_2 ROOM', 'flat_type_3 ROOM',\n",
    "       'flat_type_4 ROOM', 'flat_type_5 ROOM', 'flat_type_EXECUTIVE',\n",
    "       'flat_type_MULTI-GENERATION', 'storey_range_01 TO 03',\n",
    "       'storey_range_04 TO 06', 'storey_range_07 TO 09',\n",
    "       'storey_range_10 TO 12', 'storey_range_13 TO 15',\n",
    "       'storey_range_16 TO 18', 'storey_range_19 TO 21',\n",
    "       'storey_range_22 TO 24', 'storey_range_25 TO 27',\n",
    "       'storey_range_28 TO 30', 'storey_range_31 TO 33',\n",
    "       'storey_range_34 TO 36', 'storey_range_37 TO 39',\n",
    "       'storey_range_40 TO 42', 'flat_model_2-room',\n",
    "       'flat_model_Adjoined flat', 'flat_model_Apartment', 'flat_model_DBSS',\n",
    "       'flat_model_Improved', 'flat_model_Maisonette', 'flat_model_Model A',\n",
    "       'flat_model_Model A-Maisonette', 'flat_model_Model A2',\n",
    "       'flat_model_Multi Generation', 'flat_model_New Generation',\n",
    "       'flat_model_Premium Apartment', 'flat_model_Premium Apartment Loft',\n",
    "       'flat_model_Simplified', 'flat_model_Standard', 'flat_model_Terrace',\n",
    "       'flat_model_Type S1', 'floor_area_sqm', 'month', 'lease_commence_date',\n",
    "       'remaining_lease', 'latitude', 'longitude', 'storey_range_43 TO 45',\n",
    "       'storey_range_46 TO 48', 'storey_range_49 TO 51', 'flat_model_3Gen',\n",
    "       'flat_model_Improved-Maisonette', 'flat_model_Type S2']\n",
    "c2 = ['flat_type_1 ROOM', 'flat_type_2 ROOM', 'flat_type_3 ROOM',\n",
    "       'flat_type_4 ROOM', 'flat_type_5 ROOM', 'flat_type_EXECUTIVE',\n",
    "       'flat_type_MULTI-GENERATION', 'storey_range_01 TO 03',\n",
    "       'storey_range_04 TO 06', 'storey_range_07 TO 09',\n",
    "       'storey_range_10 TO 12', 'storey_range_13 TO 15',\n",
    "       'storey_range_16 TO 18', 'storey_range_19 TO 21',\n",
    "       'storey_range_22 TO 24', 'storey_range_25 TO 27',\n",
    "       'storey_range_28 TO 30', 'storey_range_31 TO 33',\n",
    "       'storey_range_34 TO 36', 'storey_range_37 TO 39',\n",
    "       'storey_range_40 TO 42', 'storey_range_43 TO 45',\n",
    "       'storey_range_46 TO 48', 'storey_range_49 TO 51', 'flat_model_2-room',\n",
    "       'flat_model_3Gen', 'flat_model_Adjoined flat', 'flat_model_Apartment',\n",
    "       'flat_model_DBSS', 'flat_model_Improved',\n",
    "       'flat_model_Improved-Maisonette', 'flat_model_Maisonette',\n",
    "       'flat_model_Model A', 'flat_model_Model A-Maisonette',\n",
    "       'flat_model_Model A2', 'flat_model_Multi Generation',\n",
    "       'flat_model_New Generation', 'flat_model_Premium Apartment',\n",
    "       'flat_model_Premium Apartment Loft', 'flat_model_Simplified',\n",
    "       'flat_model_Standard', 'flat_model_Terrace', 'flat_model_Type S1',\n",
    "       'flat_model_Type S2', 'floor_area_sqm', 'month', 'lease_commence_date',\n",
    "       'remaining_lease', 'latitude', 'longitude']"
   ]
  },
  {
   "cell_type": "code",
   "execution_count": 18,
   "metadata": {},
   "outputs": [
    {
     "name": "stdout",
     "output_type": "stream",
     "text": [
      "set()\n"
     ]
    }
   ],
   "source": [
    "print(set(c2)-set(c1))"
   ]
  },
  {
   "cell_type": "code",
   "execution_count": null,
   "metadata": {},
   "outputs": [],
   "source": []
  }
 ],
 "metadata": {
  "kernelspec": {
   "display_name": "venv",
   "language": "python",
   "name": "python3"
  },
  "language_info": {
   "codemirror_mode": {
    "name": "ipython",
    "version": 3
   },
   "file_extension": ".py",
   "mimetype": "text/x-python",
   "name": "python",
   "nbconvert_exporter": "python",
   "pygments_lexer": "ipython3",
   "version": "3.11.0rc1"
  }
 },
 "nbformat": 4,
 "nbformat_minor": 2
}
